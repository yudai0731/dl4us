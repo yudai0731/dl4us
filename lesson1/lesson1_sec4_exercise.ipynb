{
 "cells": [
  {
   "cell_type": "markdown",
   "metadata": {},
   "source": [
    "# Lesson1 手書き文字認識をしよう（ニューラルネットワーク入門）"
   ]
  },
  {
   "cell_type": "markdown",
   "metadata": {},
   "source": [
    "## 目次\n",
    "\n",
    "- 3.4の解答\n",
    "- Section4 実装②\n",
    "  - 4.1 Fashion MNIST\n",
    "  - 4.2 実装"
   ]
  },
  {
   "cell_type": "markdown",
   "metadata": {},
   "source": [
    "## 3.4の解答\n",
    "\n",
    "1. 損失関数のパラメータ微分のことを何というか  \n",
    "  ①スケーリング　**②勾配**　③学習率　④SGD\n",
    "2. 活性化関数の選択により対処可能な問題を何というか  \n",
    "  **①勾配消失問題**　②次元の呪い　③固有値問題　④バイアス―バリアンストレードオフ\n",
    "3. 損失関数にペナルティ項を加え、パラメータの自由度を下げる手法を何というか  \n",
    "  ①モーメンタム　②部分空間法　**③正則化**　④誤差逆伝播法\n",
    "4. 過学習への対処としてふさわしくないものはどれか  \n",
    "  ①ドロップアウト　**②スケーリング**　③ElasticNet　④早期終了"
   ]
  },
  {
   "cell_type": "markdown",
   "metadata": {},
   "source": [
    "## Section4 実装②"
   ]
  },
  {
   "cell_type": "markdown",
   "metadata": {},
   "source": [
    "最後に、この章の復習として、ファッションデータの分類をMLPを用いて行ってみましょう。"
   ]
  },
  {
   "cell_type": "markdown",
   "metadata": {},
   "source": [
    "### 4.1 Fashion MNIST"
   ]
  },
  {
   "cell_type": "markdown",
   "metadata": {},
   "source": [
    "Fashion MNIST\n",
    "https://www.tensorflow.org/api_docs/python/tf/keras/datasets/fashion_mnist/load_data?hl=ja\n",
    "\n",
    "28x28の画像データで次の10種類の衣類のいずれかに分類される. 訓練データは60000件, テストデータは10000件ある.\n",
    "0.\tT-shirt/top\n",
    "1.\tTrouser\n",
    "2.\tPullover\n",
    "3.\tDress\n",
    "4.\tCoat\n",
    "5.\tSandal\n",
    "6.\tShirt\n",
    "7.\tSneaker\n",
    "8.\tBag\n",
    "9.\tAnkle boot"
   ]
  },
  {
   "cell_type": "code",
   "execution_count": 7,
   "metadata": {},
   "outputs": [],
   "source": [
    "# データのロード\n",
    "from tensorflow.keras.datasets import fashion_mnist\n",
    "\n",
    "(x_train, y_train), (x_test, y_test) = fashion_mnist.load_data()"
   ]
  },
  {
   "cell_type": "code",
   "execution_count": 8,
   "metadata": {},
   "outputs": [
    {
     "name": "stdout",
     "output_type": "stream",
     "text": [
      "(60000, 28, 28)\n",
      "(10000, 28, 28)\n"
     ]
    }
   ],
   "source": [
    "# データセットの大きさ確認\n",
    "print(x_train.shape) # 訓練データのサイズ\n",
    "print(x_test.shape) # テストデータのサイズ"
   ]
  },
  {
   "cell_type": "code",
   "execution_count": 9,
   "metadata": {},
   "outputs": [
    {
     "data": {
      "image/png": "[encoded data removed]",
      "text/plain": [
       "<Figure size 648x1080 with 9 Axes>"
      ]
     },
     "metadata": {},
     "output_type": "display_data"
    }
   ],
   "source": [
    "# データセットの表示\n",
    "%matplotlib inline\n",
    "import matplotlib.pyplot as plt\n",
    "\n",
    "fig = plt.figure(figsize=(9, 15))\n",
    "fig.subplots_adjust(left=0, right=1, bottom=0, top=0.5, hspace=0.05, wspace=0.05)\n",
    "\n",
    "for i in range(9):\n",
    "    ax = fig.add_subplot(1, 9, i + 1, xticks=[], yticks=[])\n",
    "    ax.imshow(x_train[i], cmap='gray')"
   ]
  },
  {
   "cell_type": "markdown",
   "metadata": {},
   "source": [
    "### 4.2 実装"
   ]
  },
  {
   "cell_type": "code",
   "execution_count": 10,
   "metadata": {},
   "outputs": [],
   "source": [
    "# データの整形\n",
    "from tensorflow.keras.utils import to_categorical\n",
    "\n",
    "# (28,28)を(1,784)に変換して色を(0~255)から(0～1)にscaling\n",
    "x_train = x_train.reshape(-1, 784) / 255\n",
    "x_test = x_test.reshape(-1, 784) /255\n",
    "#(0~9)のラベルをone-hot encordinh\n",
    "y_train = to_categorical(y_train)\n",
    "y_test = to_categorical(y_test)"
   ]
  },
  {
   "cell_type": "code",
   "execution_count": 11,
   "metadata": {},
   "outputs": [
    {
     "data": {
      "text/plain": [
       "array([0., 0., 0., 0., 0., 0., 0., 0., 0., 1.], dtype=float32)"
      ]
     },
     "execution_count": 11,
     "metadata": {},
     "output_type": "execute_result"
    }
   ],
   "source": [
    "y_train[0]"
   ]
  },
  {
   "cell_type": "code",
   "execution_count": 12,
   "metadata": {},
   "outputs": [
    {
     "name": "stdout",
     "output_type": "stream",
     "text": [
      "WARNING:tensorflow:From /opt/conda/lib/python3.7/site-packages/tensorflow/python/ops/resource_variable_ops.py:435: colocate_with (from tensorflow.python.framework.ops) is deprecated and will be removed in a future version.\n",
      "Instructions for updating:\n",
      "Colocations handled automatically by placer.\n",
      "WARNING:tensorflow:From /opt/conda/lib/python3.7/site-packages/tensorflow/python/keras/layers/core.py:143: calling dropout (from tensorflow.python.ops.nn_ops) with keep_prob is deprecated and will be removed in a future version.\n",
      "Instructions for updating:\n",
      "Please use `rate` instead of `keep_prob`. Rate should be set to `rate = 1 - keep_prob`.\n"
     ]
    }
   ],
   "source": [
    "# モデル構築\n",
    "from tensorflow.keras.models import Sequential\n",
    "from tensorflow.keras.layers import Dense, Activation, Dropout\n",
    "\n",
    "# モデルの容器を作成\n",
    "model = Sequential()\n",
    "# layerを設定\n",
    "model.add(Dense(512, input_shape=(784,), activation='relu', kernel_initializer='he_normal'))\n",
    "model.add(Dense(256, activation='relu', kernel_initializer='he_normal'))\n",
    "model.add(Dense(128, activation='relu', kernel_initializer='he_normal'))\n",
    "model.add(Dropout(0.3))\n",
    "model.add(Dense(64, activation='relu', kernel_initializer='he_normal'))\n",
    "model.add(Dense(32, activation='relu', kernel_initializer='he_normal'))\n",
    "model.add(Dense(10, activation='softmax'))\n",
    "# 損失関数, 最適化手法, 評価関数を設定\n",
    "model.compile(loss='categorical_crossentropy', optimizer='adam', metrics=['accuracy'])\n",
    "\n",
    "# 比較用にsection2と類似のモデルを準備\n",
    "model0 = Sequential()\n",
    "\n",
    "model0.add(Dense(units=256, input_shape=(784,)))\n",
    "model0.add(Activation('relu'))\n",
    "model0.add(Dense(units=100))\n",
    "model0.add(Activation('relu'))\n",
    "model0.add(Dense(units=10))\n",
    "model0.add(Activation('softmax'))\n",
    "\n",
    "model0.compile(loss='categorical_crossentropy', optimizer='sgd', metrics=['accuracy'])"
   ]
  },
  {
   "cell_type": "code",
   "execution_count": 13,
   "metadata": {},
   "outputs": [
    {
     "data": {
      "image/svg+xml": [
       "<svg height=\"626pt\" viewBox=\"0.00 0.00 272.00 626.00\" width=\"272pt\" xmlns=\"http://www.w3.org/2000/svg\" xmlns:xlink=\"http://www.w3.org/1999/xlink\">\n",
       "<g class=\"graph\" id=\"graph0\" transform=\"scale(1 1) rotate(0) translate(4 622)\">\n",
       "<title>G</title>\n",
       "<polygon fill=\"white\" points=\"-4,4 -4,-622 268,-622 268,4 -4,4\" stroke=\"transparent\"/>\n",
       "<!-- 140635073784352 -->\n",
       "<g class=\"node\" id=\"node1\">\n",
       "<title>140635073784352</title>\n",
       "<polygon fill=\"none\" points=\"13.5,-498.5 13.5,-544.5 250.5,-544.5 250.5,-498.5 13.5,-498.5\" stroke=\"black\"/>\n",
       "<text font-family=\"Times,serif\" font-size=\"14.00\" text-anchor=\"middle\" x=\"59.5\" y=\"-517.8\">dense: Dense</text>\n",
       "<polyline fill=\"none\" points=\"105.5,-498.5 105.5,-544.5 \" stroke=\"black\"/>\n",
       "<text font-family=\"Times,serif\" font-size=\"14.00\" text-anchor=\"middle\" x=\"134.5\" y=\"-529.3\">input:</text>\n",
       "<polyline fill=\"none\" points=\"105.5,-521.5 163.5,-521.5 \" stroke=\"black\"/>\n",
       "<text font-family=\"Times,serif\" font-size=\"14.00\" text-anchor=\"middle\" x=\"134.5\" y=\"-506.3\">output:</text>\n",
       "<polyline fill=\"none\" points=\"163.5,-498.5 163.5,-544.5 \" stroke=\"black\"/>\n",
       "<text font-family=\"Times,serif\" font-size=\"14.00\" text-anchor=\"middle\" x=\"207\" y=\"-529.3\">(None, 784)</text>\n",
       "<polyline fill=\"none\" points=\"163.5,-521.5 250.5,-521.5 \" stroke=\"black\"/>\n",
       "<text font-family=\"Times,serif\" font-size=\"14.00\" text-anchor=\"middle\" x=\"207\" y=\"-506.3\">(None, 512)</text>\n",
       "</g>\n",
       "<!-- 140635117065552 -->\n",
       "<g class=\"node\" id=\"node2\">\n",
       "<title>140635117065552</title>\n",
       "<polygon fill=\"none\" points=\"6,-415.5 6,-461.5 258,-461.5 258,-415.5 6,-415.5\" stroke=\"black\"/>\n",
       "<text font-family=\"Times,serif\" font-size=\"14.00\" text-anchor=\"middle\" x=\"59.5\" y=\"-434.8\">dense_1: Dense</text>\n",
       "<polyline fill=\"none\" points=\"113,-415.5 113,-461.5 \" stroke=\"black\"/>\n",
       "<text font-family=\"Times,serif\" font-size=\"14.00\" text-anchor=\"middle\" x=\"142\" y=\"-446.3\">input:</text>\n",
       "<polyline fill=\"none\" points=\"113,-438.5 171,-438.5 \" stroke=\"black\"/>\n",
       "<text font-family=\"Times,serif\" font-size=\"14.00\" text-anchor=\"middle\" x=\"142\" y=\"-423.3\">output:</text>\n",
       "<polyline fill=\"none\" points=\"171,-415.5 171,-461.5 \" stroke=\"black\"/>\n",
       "<text font-family=\"Times,serif\" font-size=\"14.00\" text-anchor=\"middle\" x=\"214.5\" y=\"-446.3\">(None, 512)</text>\n",
       "<polyline fill=\"none\" points=\"171,-438.5 258,-438.5 \" stroke=\"black\"/>\n",
       "<text font-family=\"Times,serif\" font-size=\"14.00\" text-anchor=\"middle\" x=\"214.5\" y=\"-423.3\">(None, 256)</text>\n",
       "</g>\n",
       "<!-- 140635073784352&#45;&gt;140635117065552 -->\n",
       "<g class=\"edge\" id=\"edge2\">\n",
       "<title>140635073784352-&gt;140635117065552</title>\n",
       "<path d=\"M132,-498.37C132,-490.15 132,-480.66 132,-471.73\" fill=\"none\" stroke=\"black\"/>\n",
       "<polygon fill=\"black\" points=\"135.5,-471.61 132,-461.61 128.5,-471.61 135.5,-471.61\" stroke=\"black\"/>\n",
       "</g>\n",
       "<!-- 140635117067288 -->\n",
       "<g class=\"node\" id=\"node3\">\n",
       "<title>140635117067288</title>\n",
       "<polygon fill=\"none\" points=\"6,-332.5 6,-378.5 258,-378.5 258,-332.5 6,-332.5\" stroke=\"black\"/>\n",
       "<text font-family=\"Times,serif\" font-size=\"14.00\" text-anchor=\"middle\" x=\"59.5\" y=\"-351.8\">dense_2: Dense</text>\n",
       "<polyline fill=\"none\" points=\"113,-332.5 113,-378.5 \" stroke=\"black\"/>\n",
       "<text font-family=\"Times,serif\" font-size=\"14.00\" text-anchor=\"middle\" x=\"142\" y=\"-363.3\">input:</text>\n",
       "<polyline fill=\"none\" points=\"113,-355.5 171,-355.5 \" stroke=\"black\"/>\n",
       "<text font-family=\"Times,serif\" font-size=\"14.00\" text-anchor=\"middle\" x=\"142\" y=\"-340.3\">output:</text>\n",
       "<polyline fill=\"none\" points=\"171,-332.5 171,-378.5 \" stroke=\"black\"/>\n",
       "<text font-family=\"Times,serif\" font-size=\"14.00\" text-anchor=\"middle\" x=\"214.5\" y=\"-363.3\">(None, 256)</text>\n",
       "<polyline fill=\"none\" points=\"171,-355.5 258,-355.5 \" stroke=\"black\"/>\n",
       "<text font-family=\"Times,serif\" font-size=\"14.00\" text-anchor=\"middle\" x=\"214.5\" y=\"-340.3\">(None, 128)</text>\n",
       "</g>\n",
       "<!-- 140635117065552&#45;&gt;140635117067288 -->\n",
       "<g class=\"edge\" id=\"edge3\">\n",
       "<title>140635117065552-&gt;140635117067288</title>\n",
       "<path d=\"M132,-415.37C132,-407.15 132,-397.66 132,-388.73\" fill=\"none\" stroke=\"black\"/>\n",
       "<polygon fill=\"black\" points=\"135.5,-388.61 132,-378.61 128.5,-388.61 135.5,-388.61\" stroke=\"black\"/>\n",
       "</g>\n",
       "<!-- 140635250722520 -->\n",
       "<g class=\"node\" id=\"node4\">\n",
       "<title>140635250722520</title>\n",
       "<polygon fill=\"none\" points=\"0,-249.5 0,-295.5 264,-295.5 264,-249.5 0,-249.5\" stroke=\"black\"/>\n",
       "<text font-family=\"Times,serif\" font-size=\"14.00\" text-anchor=\"middle\" x=\"59.5\" y=\"-268.8\">dropout: Dropout</text>\n",
       "<polyline fill=\"none\" points=\"119,-249.5 119,-295.5 \" stroke=\"black\"/>\n",
       "<text font-family=\"Times,serif\" font-size=\"14.00\" text-anchor=\"middle\" x=\"148\" y=\"-280.3\">input:</text>\n",
       "<polyline fill=\"none\" points=\"119,-272.5 177,-272.5 \" stroke=\"black\"/>\n",
       "<text font-family=\"Times,serif\" font-size=\"14.00\" text-anchor=\"middle\" x=\"148\" y=\"-257.3\">output:</text>\n",
       "<polyline fill=\"none\" points=\"177,-249.5 177,-295.5 \" stroke=\"black\"/>\n",
       "<text font-family=\"Times,serif\" font-size=\"14.00\" text-anchor=\"middle\" x=\"220.5\" y=\"-280.3\">(None, 128)</text>\n",
       "<polyline fill=\"none\" points=\"177,-272.5 264,-272.5 \" stroke=\"black\"/>\n",
       "<text font-family=\"Times,serif\" font-size=\"14.00\" text-anchor=\"middle\" x=\"220.5\" y=\"-257.3\">(None, 128)</text>\n",
       "</g>\n",
       "<!-- 140635117067288&#45;&gt;140635250722520 -->\n",
       "<g class=\"edge\" id=\"edge4\">\n",
       "<title>140635117067288-&gt;140635250722520</title>\n",
       "<path d=\"M132,-332.37C132,-324.15 132,-314.66 132,-305.73\" fill=\"none\" stroke=\"black\"/>\n",
       "<polygon fill=\"black\" points=\"135.5,-305.61 132,-295.61 128.5,-305.61 135.5,-305.61\" stroke=\"black\"/>\n",
       "</g>\n",
       "<!-- 140635250721960 -->\n",
       "<g class=\"node\" id=\"node5\">\n",
       "<title>140635250721960</title>\n",
       "<polygon fill=\"none\" points=\"6,-166.5 6,-212.5 258,-212.5 258,-166.5 6,-166.5\" stroke=\"black\"/>\n",
       "<text font-family=\"Times,serif\" font-size=\"14.00\" text-anchor=\"middle\" x=\"59.5\" y=\"-185.8\">dense_3: Dense</text>\n",
       "<polyline fill=\"none\" points=\"113,-166.5 113,-212.5 \" stroke=\"black\"/>\n",
       "<text font-family=\"Times,serif\" font-size=\"14.00\" text-anchor=\"middle\" x=\"142\" y=\"-197.3\">input:</text>\n",
       "<polyline fill=\"none\" points=\"113,-189.5 171,-189.5 \" stroke=\"black\"/>\n",
       "<text font-family=\"Times,serif\" font-size=\"14.00\" text-anchor=\"middle\" x=\"142\" y=\"-174.3\">output:</text>\n",
       "<polyline fill=\"none\" points=\"171,-166.5 171,-212.5 \" stroke=\"black\"/>\n",
       "<text font-family=\"Times,serif\" font-size=\"14.00\" text-anchor=\"middle\" x=\"214.5\" y=\"-197.3\">(None, 128)</text>\n",
       "<polyline fill=\"none\" points=\"171,-189.5 258,-189.5 \" stroke=\"black\"/>\n",
       "<text font-family=\"Times,serif\" font-size=\"14.00\" text-anchor=\"middle\" x=\"214.5\" y=\"-174.3\">(None, 64)</text>\n",
       "</g>\n",
       "<!-- 140635250722520&#45;&gt;140635250721960 -->\n",
       "<g class=\"edge\" id=\"edge5\">\n",
       "<title>140635250722520-&gt;140635250721960</title>\n",
       "<path d=\"M132,-249.37C132,-241.15 132,-231.66 132,-222.73\" fill=\"none\" stroke=\"black\"/>\n",
       "<polygon fill=\"black\" points=\"135.5,-222.61 132,-212.61 128.5,-222.61 135.5,-222.61\" stroke=\"black\"/>\n",
       "</g>\n",
       "<!-- 140635074260720 -->\n",
       "<g class=\"node\" id=\"node6\">\n",
       "<title>140635074260720</title>\n",
       "<polygon fill=\"none\" points=\"9.5,-83.5 9.5,-129.5 254.5,-129.5 254.5,-83.5 9.5,-83.5\" stroke=\"black\"/>\n",
       "<text font-family=\"Times,serif\" font-size=\"14.00\" text-anchor=\"middle\" x=\"63\" y=\"-102.8\">dense_4: Dense</text>\n",
       "<polyline fill=\"none\" points=\"116.5,-83.5 116.5,-129.5 \" stroke=\"black\"/>\n",
       "<text font-family=\"Times,serif\" font-size=\"14.00\" text-anchor=\"middle\" x=\"145.5\" y=\"-114.3\">input:</text>\n",
       "<polyline fill=\"none\" points=\"116.5,-106.5 174.5,-106.5 \" stroke=\"black\"/>\n",
       "<text font-family=\"Times,serif\" font-size=\"14.00\" text-anchor=\"middle\" x=\"145.5\" y=\"-91.3\">output:</text>\n",
       "<polyline fill=\"none\" points=\"174.5,-83.5 174.5,-129.5 \" stroke=\"black\"/>\n",
       "<text font-family=\"Times,serif\" font-size=\"14.00\" text-anchor=\"middle\" x=\"214.5\" y=\"-114.3\">(None, 64)</text>\n",
       "<polyline fill=\"none\" points=\"174.5,-106.5 254.5,-106.5 \" stroke=\"black\"/>\n",
       "<text font-family=\"Times,serif\" font-size=\"14.00\" text-anchor=\"middle\" x=\"214.5\" y=\"-91.3\">(None, 32)</text>\n",
       "</g>\n",
       "<!-- 140635250721960&#45;&gt;140635074260720 -->\n",
       "<g class=\"edge\" id=\"edge6\">\n",
       "<title>140635250721960-&gt;140635074260720</title>\n",
       "<path d=\"M132,-166.37C132,-158.15 132,-148.66 132,-139.73\" fill=\"none\" stroke=\"black\"/>\n",
       "<polygon fill=\"black\" points=\"135.5,-139.61 132,-129.61 128.5,-139.61 135.5,-139.61\" stroke=\"black\"/>\n",
       "</g>\n",
       "<!-- 140635250835408 -->\n",
       "<g class=\"node\" id=\"node7\">\n",
       "<title>140635250835408</title>\n",
       "<polygon fill=\"none\" points=\"9.5,-0.5 9.5,-46.5 254.5,-46.5 254.5,-0.5 9.5,-0.5\" stroke=\"black\"/>\n",
       "<text font-family=\"Times,serif\" font-size=\"14.00\" text-anchor=\"middle\" x=\"63\" y=\"-19.8\">dense_5: Dense</text>\n",
       "<polyline fill=\"none\" points=\"116.5,-0.5 116.5,-46.5 \" stroke=\"black\"/>\n",
       "<text font-family=\"Times,serif\" font-size=\"14.00\" text-anchor=\"middle\" x=\"145.5\" y=\"-31.3\">input:</text>\n",
       "<polyline fill=\"none\" points=\"116.5,-23.5 174.5,-23.5 \" stroke=\"black\"/>\n",
       "<text font-family=\"Times,serif\" font-size=\"14.00\" text-anchor=\"middle\" x=\"145.5\" y=\"-8.3\">output:</text>\n",
       "<polyline fill=\"none\" points=\"174.5,-0.5 174.5,-46.5 \" stroke=\"black\"/>\n",
       "<text font-family=\"Times,serif\" font-size=\"14.00\" text-anchor=\"middle\" x=\"214.5\" y=\"-31.3\">(None, 32)</text>\n",
       "<polyline fill=\"none\" points=\"174.5,-23.5 254.5,-23.5 \" stroke=\"black\"/>\n",
       "<text font-family=\"Times,serif\" font-size=\"14.00\" text-anchor=\"middle\" x=\"214.5\" y=\"-8.3\">(None, 10)</text>\n",
       "</g>\n",
       "<!-- 140635074260720&#45;&gt;140635250835408 -->\n",
       "<g class=\"edge\" id=\"edge7\">\n",
       "<title>140635074260720-&gt;140635250835408</title>\n",
       "<path d=\"M132,-83.37C132,-75.15 132,-65.66 132,-56.73\" fill=\"none\" stroke=\"black\"/>\n",
       "<polygon fill=\"black\" points=\"135.5,-56.61 132,-46.61 128.5,-56.61 135.5,-56.61\" stroke=\"black\"/>\n",
       "</g>\n",
       "<!-- 140635117065160 -->\n",
       "<g class=\"node\" id=\"node8\">\n",
       "<title>140635117065160</title>\n",
       "<polygon fill=\"none\" points=\"68,-581.5 68,-617.5 196,-617.5 196,-581.5 68,-581.5\" stroke=\"black\"/>\n",
       "<text font-family=\"Times,serif\" font-size=\"14.00\" text-anchor=\"middle\" x=\"132\" y=\"-595.8\">140635117065160</text>\n",
       "</g>\n",
       "<!-- 140635117065160&#45;&gt;140635073784352 -->\n",
       "<g class=\"edge\" id=\"edge1\">\n",
       "<title>140635117065160-&gt;140635073784352</title>\n",
       "<path d=\"M132,-581.25C132,-573.36 132,-563.75 132,-554.6\" fill=\"none\" stroke=\"black\"/>\n",
       "<polygon fill=\"black\" points=\"135.5,-554.59 132,-544.59 128.5,-554.59 135.5,-554.59\" stroke=\"black\"/>\n",
       "</g>\n",
       "</g>\n",
       "</svg>"
      ],
      "text/plain": [
       "<IPython.core.display.SVG object>"
      ]
     },
     "execution_count": 13,
     "metadata": {},
     "output_type": "execute_result"
    }
   ],
   "source": [
    "# モデルmodelを可視化\n",
    "from IPython.display import SVG\n",
    "from tensorflow.python.keras.utils.vis_utils import model_to_dot\n",
    "\n",
    "SVG(model_to_dot(model, show_shapes=True).create(prog='dot', format='svg'))"
   ]
  },
  {
   "cell_type": "markdown",
   "metadata": {},
   "source": [
    "input layer (784) -> (512), 活性化関数ReLU, 初期化 Heの初期化  \n",
    "hidden layer1 (512) -> (256), 活性化関数ReLU, 初期化 Heの初期化  \n",
    "hidden layer2 (256) -> (128), 活性化関数ReLU, 初期化 Heの初期化  \n",
    "Drop out layer (128) -> (128), 確率0.3で次の層の入力を0にする  \n",
    "hidden layer3 (128) -> (64), 活性化関数ReLU, 初期化 Heの初期化  \n",
    "hidden layer4 (64) -> (32), 活性化関数ReLU, 初期化 Heの初期化  \n",
    "hidden layer5 (32) -> (10), 活性化関数ReLU, 初期化 Heの初期化  \n",
    "output layer (10) -> (10), 出力層の設計 Softmax"
   ]
  },
  {
   "cell_type": "markdown",
   "metadata": {},
   "source": [
    "batch_size  \n",
    "batch_sizeはデータセットをいくつかのサブセットにわけること. 例えばデータセットが1000件でbatch_size=200とすると, 200件のデータがあるサブセットが5つ作られる. batch_sizeは2の乗数で決められることが多い.\n",
    "\n",
    "epoch  \n",
    "データセットのバッチサイズをN個のサブセットに分けて各サブセットを1回回す. つまりNか学習が行われる. これを1回繰り返すことを1epochという. 通常は損失関数が収束するまで数～数十epoch回すことが多い."
   ]
  },
  {
   "cell_type": "code",
   "execution_count": 14,
   "metadata": {},
   "outputs": [
    {
     "name": "stdout",
     "output_type": "stream",
     "text": [
      "Train on 60000 samples, validate on 10000 samples\n",
      "WARNING:tensorflow:From /opt/conda/lib/python3.7/site-packages/tensorflow/python/ops/math_ops.py:3066: to_int32 (from tensorflow.python.ops.math_ops) is deprecated and will be removed in a future version.\n",
      "Instructions for updating:\n",
      "Use tf.cast instead.\n",
      "Epoch 1/10\n",
      " - 2s - loss: 1.0229 - acc: 0.6541 - val_loss: 0.5461 - val_acc: 0.8125\n",
      "Epoch 2/10\n",
      " - 2s - loss: 0.4860 - acc: 0.8325 - val_loss: 0.4268 - val_acc: 0.8512\n",
      "Epoch 3/10\n",
      " - 2s - loss: 0.4055 - acc: 0.8554 - val_loss: 0.3950 - val_acc: 0.8593\n",
      "Epoch 4/10\n",
      " - 2s - loss: 0.3710 - acc: 0.8669 - val_loss: 0.3660 - val_acc: 0.8683\n",
      "Epoch 5/10\n",
      " - 2s - loss: 0.3428 - acc: 0.8761 - val_loss: 0.3645 - val_acc: 0.8707\n",
      "Epoch 6/10\n",
      " - 2s - loss: 0.3261 - acc: 0.8812 - val_loss: 0.3584 - val_acc: 0.8704\n",
      "Epoch 7/10\n",
      " - 2s - loss: 0.3072 - acc: 0.8884 - val_loss: 0.3443 - val_acc: 0.8780\n",
      "Epoch 8/10\n",
      " - 2s - loss: 0.2911 - acc: 0.8932 - val_loss: 0.3494 - val_acc: 0.8735\n",
      "Epoch 9/10\n",
      " - 2s - loss: 0.2856 - acc: 0.8952 - val_loss: 0.3336 - val_acc: 0.8795\n",
      "Epoch 10/10\n",
      " - 2s - loss: 0.2707 - acc: 0.9005 - val_loss: 0.3388 - val_acc: 0.8779\n",
      "Train on 60000 samples, validate on 10000 samples\n",
      "Epoch 1/10\n",
      " - 1s - loss: 1.9185 - acc: 0.3866 - val_loss: 1.5737 - val_acc: 0.5852\n",
      "Epoch 2/10\n",
      " - 1s - loss: 1.3572 - acc: 0.6505 - val_loss: 1.1933 - val_acc: 0.6756\n",
      "Epoch 3/10\n",
      " - 1s - loss: 1.0740 - acc: 0.6969 - val_loss: 0.9987 - val_acc: 0.6962\n",
      "Epoch 4/10\n",
      " - 1s - loss: 0.9273 - acc: 0.7185 - val_loss: 0.8914 - val_acc: 0.7152\n",
      "Epoch 5/10\n",
      " - 1s - loss: 0.8411 - acc: 0.7360 - val_loss: 0.8244 - val_acc: 0.7280\n",
      "Epoch 6/10\n",
      " - 1s - loss: 0.7838 - acc: 0.7484 - val_loss: 0.7773 - val_acc: 0.7402\n",
      "Epoch 7/10\n",
      " - 1s - loss: 0.7419 - acc: 0.7589 - val_loss: 0.7414 - val_acc: 0.7527\n",
      "Epoch 8/10\n",
      " - 1s - loss: 0.7096 - acc: 0.7682 - val_loss: 0.7129 - val_acc: 0.7599\n",
      "Epoch 9/10\n",
      " - 1s - loss: 0.6834 - acc: 0.7764 - val_loss: 0.6901 - val_acc: 0.7664\n",
      "Epoch 10/10\n",
      " - 1s - loss: 0.6612 - acc: 0.7828 - val_loss: 0.6699 - val_acc: 0.7734\n"
     ]
    },
    {
     "data": {
      "text/plain": [
       "<tensorflow.python.keras.callbacks.History at 0x7fe8650dbd30>"
      ]
     },
     "execution_count": 14,
     "metadata": {},
     "output_type": "execute_result"
    }
   ],
   "source": [
    "# 学習\n",
    "from tensorflow.keras.callbacks import EarlyStopping\n",
    "\n",
    "# patience 指定したepoch数改善がないと訓練を停止する.\n",
    "early_stopping = EarlyStopping(patience=10, verbose=1)\n",
    "\n",
    "model.fit(x_train, y_train, batch_size=1000, verbose=2, epochs=10, validation_data=(x_test, y_test), callbacks=[early_stopping])\n",
    "model0.fit(x_train, y_train, batch_size=1000, verbose=2, epochs=10, validation_data=(x_test, y_test))"
   ]
  },
  {
   "cell_type": "code",
   "execution_count": 15,
   "metadata": {},
   "outputs": [
    {
     "name": "stdout",
     "output_type": "stream",
     "text": [
      "Test loss: 0.33883500578403475\n",
      "Test accuracy: 0.8779\n",
      "Test loss by model0: 0.6699333357810974\n",
      "Test accuracy by model0: 0.7734\n"
     ]
    }
   ],
   "source": [
    "# 性能評価\n",
    "score = model.evaluate(x_test, y_test, verbose=0)\n",
    "print('Test loss:', score[0])\n",
    "print('Test accuracy:', score[1])\n",
    "score0 = model0.evaluate(x_test, y_test, verbose=0)\n",
    "print('Test loss by model0:', score0[0])\n",
    "print('Test accuracy by model0:', score0[1])"
   ]
  },
  {
   "cell_type": "code",
   "execution_count": 18,
   "metadata": {},
   "outputs": [
    {
     "data": {
      "text/plain": [
       "array([1.7937046e-07, 1.3800313e-04, 1.6723225e-06, 3.4276804e-06,\n",
       "       5.7466961e-05, 1.8459562e-03, 1.5424416e-06, 1.9704947e-01,\n",
       "       3.2229576e-04, 8.0058002e-01], dtype=float32)"
      ]
     },
     "execution_count": 18,
     "metadata": {},
     "output_type": "execute_result"
    }
   ],
   "source": [
    "# モデルによる予測\n",
    "classes = model.predict(x_test,batch_size=1000)\n",
    "classes[0]"
   ]
  },
  {
   "cell_type": "code",
   "execution_count": null,
   "metadata": {},
   "outputs": [],
   "source": []
  }
 ],
 "metadata": {
  "kernelspec": {
   "display_name": "Python 3",
   "language": "python",
   "name": "python3"
  },
  "language_info": {
   "codemirror_mode": {
    "name": "ipython",
    "version": 3
   },
   "file_extension": ".py",
   "mimetype": "text/x-python",
   "name": "python",
   "nbconvert_exporter": "python",
   "pygments_lexer": "ipython3",
   "version": "3.7.3"
  }
 },
 "nbformat": 4,
 "nbformat_minor": 1
}
