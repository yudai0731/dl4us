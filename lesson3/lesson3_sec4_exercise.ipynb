{
 "cells": [
  {
   "cell_type": "markdown",
   "metadata": {},
   "source": [
    "# Lesson3 系列データで分類・予測させてみよう（RNN, LSTM）"
   ]
  },
  {
   "cell_type": "markdown",
   "metadata": {},
   "source": [
    "## 目次\n",
    "\n",
    "- 3.4の解答\n",
    "- Section4 実装②\n",
    "    - 4.0 データの用意\n",
    "    - 4.1 モデル構築\n",
    "    - 4.2 モデルの学習\n",
    "    - 4.3 モデルによる予測\n",
    "    - 4.4 モデルの可視化"
   ]
  },
  {
   "cell_type": "markdown",
   "metadata": {},
   "source": [
    "## Section3 Checkクイズの解答\n",
    "\n",
    "問題1: 2, 問題2: 3, 問題3: 1, 問題4: 4"
   ]
  },
  {
   "cell_type": "markdown",
   "metadata": {},
   "source": [
    "## Section4 実装②"
   ]
  },
  {
   "cell_type": "markdown",
   "metadata": {},
   "source": [
    "ここでは、1949年1月から1960年12月までの月次航空会社乗客数のデータをLSTMで学習し、予測を行ってみましょう。\n",
    "\n",
    "データは次のリンクのページのものを用います。\n",
    "\n",
    "https://datamarket.com/data/set/22u3/international-airline-passengers-monthly-totals-in-thousands-jan-49-dec-60#!ds=22u3&display=line\n",
    "\n",
    "このデータセットには、1列目に年月、2列目にその月の航空会社乗客数が千人単位で記録されています。"
   ]
  },
  {
   "cell_type": "markdown",
   "metadata": {},
   "source": [
    "### 4.0 データの用意\n",
    "\n",
    "**ここで利用するデータセットはリポジトリに含まれていません。**\n",
    "\n",
    "上記リンク先のページ左上段にある \"Export\" をクリックの上、\"Exports\"->\"Download data\"->\"CSV (,)\" を選択していただき、\n",
    "\n",
    "ご自身でダウンロードして頂くようお願い致します。\n",
    "\n",
    "ダウンロードしたデータセットはdataフォルダ内に配置していただく必要があります。\n",
    "\n",
    "データセットの配置が完了したら、まずは配置したデータセットの読み込みを行いましょう。\n",
    "\n",
    "今回は2列目の乗客数のみ読み込みます。なお、データセットがcsv形式なのでpandas.read_csvを用いてロードを行います。"
   ]
  },
  {
   "cell_type": "code",
   "execution_count": 2,
   "metadata": {},
   "outputs": [],
   "source": [
    "%matplotlib inline\n",
    "\n",
    "import pandas as pd\n",
    "\n",
    "# データの読み込み（データセット中のYのみロード）\n",
    "dataframe = pd.read_csv('data/international-airline-passengers.csv', usecols=[1], engine='python', skipfooter=3)\n",
    "dataset = dataframe.values.astype('float32')"
   ]
  },
  {
   "cell_type": "markdown",
   "metadata": {},
   "source": [
    "データが人数という単位を持っているので、この単位への依存性をなくすため（また予測性能向上のため）スケーリングを行います。\n",
    "\n",
    "なお、スケーリングには、ライブラリscikit-learnの`MinMaxScaler`クラスを使用します。\n",
    "\n",
    "`MinMaxScaler`は初期化時に`feature_range`引数として、どの範囲にスケーリングするかを指定すると、\n",
    "\n",
    "`fit_trasform`メソッドでデータセットをスケーリングし、またスケーリングに用いたパラメータを記憶します。\n",
    "\n",
    "そのため逆変換も可能で、`inverse_transform`メソッドを用いれば、データのスケーリングを元に戻すことができます。（後ほど結果の処理で使用）"
   ]
  },
  {
   "cell_type": "code",
   "execution_count": 3,
   "metadata": {},
   "outputs": [],
   "source": [
    "from sklearn.preprocessing import MinMaxScaler\n",
    "\n",
    "# [0,1]に正規化\n",
    "scaler = MinMaxScaler(feature_range=(0, 1))\n",
    "dataset = scaler.fit_transform(dataset)"
   ]
  },
  {
   "cell_type": "code",
   "execution_count": 7,
   "metadata": {},
   "outputs": [
    {
     "data": {
      "text/plain": [
       "array([[0.01544401],\n",
       "       [0.02702703],\n",
       "       [0.05405405],\n",
       "       [0.04826255],\n",
       "       [0.03281853]], dtype=float32)"
      ]
     },
     "execution_count": 7,
     "metadata": {},
     "output_type": "execute_result"
    }
   ],
   "source": [
    "dataset[0:5]"
   ]
  },
  {
   "cell_type": "markdown",
   "metadata": {},
   "source": [
    "続いて、データセットを訓練用とテスト用に分割します。時系列の予測が目的のため、ある時点を境に訓練用、テスト用と分割します。"
   ]
  },
  {
   "cell_type": "code",
   "execution_count": 8,
   "metadata": {},
   "outputs": [],
   "source": [
    "# 訓練データとテストデータを分割（時系列の予測が目的のため、ある時点から先をテストデータとする）\n",
    "train_size = int(len(dataset) * 0.67)\n",
    "test_size = len(dataset) - train_size\n",
    "train, test = dataset[0:train_size,:], dataset[train_size:len(dataset),:]"
   ]
  },
  {
   "cell_type": "code",
   "execution_count": 10,
   "metadata": {},
   "outputs": [
    {
     "name": "stdout",
     "output_type": "stream",
     "text": [
      "(141, 1)\n",
      "(94, 1)\n",
      "(47, 1)\n"
     ]
    }
   ],
   "source": [
    "print(dataset.shape)\n",
    "print(train.shape)\n",
    "print(test.shape)"
   ]
  },
  {
   "cell_type": "markdown",
   "metadata": {},
   "source": [
    "時系列の予測の場合、ある時点のデータのみ参照して同じ時点の予測を行うことは困難です。\n",
    "\n",
    "そこで、数回前のデータまで参照できるようにしましょう。RNNでは、この数回前までのデータを1系列とみなして入力に使用します。"
   ]
  },
  {
   "cell_type": "code",
   "execution_count": 12,
   "metadata": {},
   "outputs": [],
   "source": [
    "import numpy as np\n",
    "\n",
    "# X=[data[t-look_back],...,data[t-1]], Y=data[t]となるデータセットに変換\n",
    "def create_dataset(dataset, look_back=1):\n",
    "    dataX, dataY = [], []\n",
    "    for i in range(len(dataset)-look_back-1): # len(dataset)-look_back-1回loop\n",
    "        a = dataset[i:(i+look_back), 0] # datasetのi:i+look_backを抽出\n",
    "        dataX.append(a) # 抽出したaを配列dataXに追加\n",
    "        dataY.append(dataset[i + look_back, 0]) # i+look_back個目のデータをターゲットとしてdataYに格納\n",
    "    return np.array(dataX), np.array(dataY)\n",
    "\n",
    "look_back = 3 # 3つ前までを見る\n",
    "trainX, trainY = create_dataset(train, look_back)\n",
    "testX, testY = create_dataset(test, look_back)\n",
    "\n",
    "# [samples, time steps, features]へ変形\n",
    "trainX = np.reshape(trainX, (trainX.shape[0], trainX.shape[1], 1))\n",
    "testX = np.reshape(testX, (testX.shape[0], testX.shape[1], 1))"
   ]
  },
  {
   "cell_type": "code",
   "execution_count": 13,
   "metadata": {},
   "outputs": [
    {
     "name": "stdout",
     "output_type": "stream",
     "text": [
      "(90, 3, 1)\n",
      "(43, 3, 1)\n"
     ]
    }
   ],
   "source": [
    "print(trainX.shape)\n",
    "print(testX.shape)"
   ]
  },
  {
   "cell_type": "markdown",
   "metadata": {},
   "source": [
    "### 4.1 モデル構築\n",
    "\n",
    "ここでは、先程紹介したLSTM（4ユニット）を使用してモデルを構築します。\n",
    "\n",
    "また、最終的に必要な出力はスカラー値なので、最後にDenseレイヤーを使用し、損失関数はMSEを用います。"
   ]
  },
  {
   "cell_type": "code",
   "execution_count": 14,
   "metadata": {},
   "outputs": [
    {
     "name": "stderr",
     "output_type": "stream",
     "text": [
      "/opt/conda/lib/python3.7/site-packages/tensorflow/python/framework/dtypes.py:526: FutureWarning: Passing (type, 1) or '1type' as a synonym of type is deprecated; in a future version of numpy, it will be understood as (type, (1,)) / '(1,)type'.\n",
      "  _np_qint8 = np.dtype([(\"qint8\", np.int8, 1)])\n",
      "/opt/conda/lib/python3.7/site-packages/tensorflow/python/framework/dtypes.py:527: FutureWarning: Passing (type, 1) or '1type' as a synonym of type is deprecated; in a future version of numpy, it will be understood as (type, (1,)) / '(1,)type'.\n",
      "  _np_quint8 = np.dtype([(\"quint8\", np.uint8, 1)])\n",
      "/opt/conda/lib/python3.7/site-packages/tensorflow/python/framework/dtypes.py:528: FutureWarning: Passing (type, 1) or '1type' as a synonym of type is deprecated; in a future version of numpy, it will be understood as (type, (1,)) / '(1,)type'.\n",
      "  _np_qint16 = np.dtype([(\"qint16\", np.int16, 1)])\n",
      "/opt/conda/lib/python3.7/site-packages/tensorflow/python/framework/dtypes.py:529: FutureWarning: Passing (type, 1) or '1type' as a synonym of type is deprecated; in a future version of numpy, it will be understood as (type, (1,)) / '(1,)type'.\n",
      "  _np_quint16 = np.dtype([(\"quint16\", np.uint16, 1)])\n",
      "/opt/conda/lib/python3.7/site-packages/tensorflow/python/framework/dtypes.py:530: FutureWarning: Passing (type, 1) or '1type' as a synonym of type is deprecated; in a future version of numpy, it will be understood as (type, (1,)) / '(1,)type'.\n",
      "  _np_qint32 = np.dtype([(\"qint32\", np.int32, 1)])\n",
      "/opt/conda/lib/python3.7/site-packages/tensorflow/python/framework/dtypes.py:535: FutureWarning: Passing (type, 1) or '1type' as a synonym of type is deprecated; in a future version of numpy, it will be understood as (type, (1,)) / '(1,)type'.\n",
      "  np_resource = np.dtype([(\"resource\", np.ubyte, 1)])\n"
     ]
    },
    {
     "name": "stdout",
     "output_type": "stream",
     "text": [
      "WARNING:tensorflow:From /opt/conda/lib/python3.7/site-packages/tensorflow/python/ops/resource_variable_ops.py:435: colocate_with (from tensorflow.python.framework.ops) is deprecated and will be removed in a future version.\n",
      "Instructions for updating:\n",
      "Colocations handled automatically by placer.\n",
      "WARNING:tensorflow:From /opt/conda/lib/python3.7/site-packages/tensorflow/python/keras/utils/losses_utils.py:170: to_float (from tensorflow.python.ops.math_ops) is deprecated and will be removed in a future version.\n",
      "Instructions for updating:\n",
      "Use tf.cast instead.\n"
     ]
    }
   ],
   "source": [
    "from tensorflow.keras.models import Sequential\n",
    "from tensorflow.keras.layers import Dense, Activation, LSTM\n",
    "\n",
    "# LSTMにDenseを接続し、数値を予測（MSEで評価）\n",
    "model = Sequential()\n",
    "\n",
    "model.add(LSTM(4, input_shape=(look_back, 1))) # input_shape=(系列長T, x_tの次元), output_shape=(units,)\n",
    "model.add(Dense(1))\n",
    "\n",
    "model.compile(loss='mean_squared_error', optimizer='adam')"
   ]
  },
  {
   "cell_type": "markdown",
   "metadata": {},
   "source": [
    "### 4.2 モデルの学習"
   ]
  },
  {
   "cell_type": "code",
   "execution_count": 15,
   "metadata": {
    "scrolled": true
   },
   "outputs": [
    {
     "name": "stdout",
     "output_type": "stream",
     "text": [
      "WARNING:tensorflow:From /opt/conda/lib/python3.7/site-packages/tensorflow/python/ops/math_ops.py:3066: to_int32 (from tensorflow.python.ops.math_ops) is deprecated and will be removed in a future version.\n",
      "Instructions for updating:\n",
      "Use tf.cast instead.\n",
      "Epoch 1/100\n",
      " - 1s - loss: 0.0362\n",
      "Epoch 2/100\n",
      " - 1s - loss: 0.0151\n",
      "Epoch 3/100\n",
      " - 1s - loss: 0.0129\n",
      "Epoch 4/100\n",
      " - 1s - loss: 0.0116\n",
      "Epoch 5/100\n",
      " - 1s - loss: 0.0099\n",
      "Epoch 6/100\n",
      " - 1s - loss: 0.0087\n",
      "Epoch 7/100\n",
      " - 1s - loss: 0.0074\n",
      "Epoch 8/100\n",
      " - 1s - loss: 0.0063\n",
      "Epoch 9/100\n",
      " - 1s - loss: 0.0054\n",
      "Epoch 10/100\n",
      " - 1s - loss: 0.0046\n",
      "Epoch 11/100\n",
      " - 1s - loss: 0.0042\n",
      "Epoch 12/100\n",
      " - 1s - loss: 0.0038\n",
      "Epoch 13/100\n",
      " - 1s - loss: 0.0037\n",
      "Epoch 14/100\n",
      " - 1s - loss: 0.0037\n",
      "Epoch 15/100\n",
      " - 1s - loss: 0.0036\n",
      "Epoch 16/100\n",
      " - 1s - loss: 0.0036\n",
      "Epoch 17/100\n",
      " - 1s - loss: 0.0037\n",
      "Epoch 18/100\n",
      " - 1s - loss: 0.0035\n",
      "Epoch 19/100\n",
      " - 1s - loss: 0.0036\n",
      "Epoch 20/100\n",
      " - 1s - loss: 0.0037\n",
      "Epoch 21/100\n",
      " - 1s - loss: 0.0034\n",
      "Epoch 22/100\n",
      " - 1s - loss: 0.0034\n",
      "Epoch 23/100\n",
      " - 1s - loss: 0.0034\n",
      "Epoch 24/100\n",
      " - 1s - loss: 0.0033\n",
      "Epoch 25/100\n",
      " - 1s - loss: 0.0034\n",
      "Epoch 26/100\n",
      " - 1s - loss: 0.0034\n",
      "Epoch 27/100\n",
      " - 1s - loss: 0.0034\n",
      "Epoch 28/100\n",
      " - 1s - loss: 0.0036\n",
      "Epoch 29/100\n",
      " - 1s - loss: 0.0034\n",
      "Epoch 30/100\n",
      " - 1s - loss: 0.0033\n",
      "Epoch 31/100\n",
      " - 1s - loss: 0.0034\n",
      "Epoch 32/100\n",
      " - 1s - loss: 0.0034\n",
      "Epoch 33/100\n",
      " - 1s - loss: 0.0032\n",
      "Epoch 34/100\n",
      " - 1s - loss: 0.0035\n",
      "Epoch 35/100\n",
      " - 1s - loss: 0.0032\n",
      "Epoch 36/100\n",
      " - 1s - loss: 0.0034\n",
      "Epoch 37/100\n",
      " - 1s - loss: 0.0032\n",
      "Epoch 38/100\n",
      " - 1s - loss: 0.0032\n",
      "Epoch 39/100\n",
      " - 1s - loss: 0.0033\n",
      "Epoch 40/100\n",
      " - 1s - loss: 0.0033\n",
      "Epoch 41/100\n",
      " - 1s - loss: 0.0032\n",
      "Epoch 42/100\n",
      " - 1s - loss: 0.0032\n",
      "Epoch 43/100\n",
      " - 1s - loss: 0.0033\n",
      "Epoch 44/100\n",
      " - 1s - loss: 0.0032\n",
      "Epoch 45/100\n",
      " - 1s - loss: 0.0032\n",
      "Epoch 46/100\n",
      " - 1s - loss: 0.0032\n",
      "Epoch 47/100\n",
      " - 1s - loss: 0.0032\n",
      "Epoch 48/100\n",
      " - 1s - loss: 0.0033\n",
      "Epoch 49/100\n",
      " - 1s - loss: 0.0033\n",
      "Epoch 50/100\n",
      " - 1s - loss: 0.0030\n",
      "Epoch 51/100\n",
      " - 1s - loss: 0.0031\n",
      "Epoch 52/100\n",
      " - 1s - loss: 0.0031\n",
      "Epoch 53/100\n",
      " - 1s - loss: 0.0031\n",
      "Epoch 54/100\n",
      " - 1s - loss: 0.0031\n",
      "Epoch 55/100\n",
      " - 1s - loss: 0.0031\n",
      "Epoch 56/100\n",
      " - 1s - loss: 0.0030\n",
      "Epoch 57/100\n",
      " - 1s - loss: 0.0030\n",
      "Epoch 58/100\n",
      " - 1s - loss: 0.0030\n",
      "Epoch 59/100\n",
      " - 1s - loss: 0.0031\n",
      "Epoch 60/100\n",
      " - 1s - loss: 0.0031\n",
      "Epoch 61/100\n",
      " - 1s - loss: 0.0031\n",
      "Epoch 62/100\n",
      " - 1s - loss: 0.0030\n",
      "Epoch 63/100\n",
      " - 1s - loss: 0.0030\n",
      "Epoch 64/100\n",
      " - 1s - loss: 0.0030\n",
      "Epoch 65/100\n",
      " - 1s - loss: 0.0030\n",
      "Epoch 66/100\n",
      " - 1s - loss: 0.0031\n",
      "Epoch 67/100\n",
      " - 1s - loss: 0.0029\n",
      "Epoch 68/100\n",
      " - 1s - loss: 0.0029\n",
      "Epoch 69/100\n",
      " - 1s - loss: 0.0029\n",
      "Epoch 70/100\n",
      " - 1s - loss: 0.0029\n",
      "Epoch 71/100\n",
      " - 1s - loss: 0.0029\n",
      "Epoch 72/100\n",
      " - 1s - loss: 0.0029\n",
      "Epoch 73/100\n",
      " - 1s - loss: 0.0028\n",
      "Epoch 74/100\n",
      " - 1s - loss: 0.0028\n",
      "Epoch 75/100\n",
      " - 1s - loss: 0.0029\n",
      "Epoch 76/100\n",
      " - 1s - loss: 0.0028\n",
      "Epoch 77/100\n",
      " - 1s - loss: 0.0028\n",
      "Epoch 78/100\n",
      " - 1s - loss: 0.0029\n",
      "Epoch 79/100\n",
      " - 1s - loss: 0.0029\n",
      "Epoch 80/100\n",
      " - 1s - loss: 0.0028\n",
      "Epoch 81/100\n",
      " - 1s - loss: 0.0029\n",
      "Epoch 82/100\n",
      " - 1s - loss: 0.0028\n",
      "Epoch 83/100\n",
      " - 1s - loss: 0.0028\n",
      "Epoch 84/100\n",
      " - 1s - loss: 0.0027\n",
      "Epoch 85/100\n",
      " - 1s - loss: 0.0028\n",
      "Epoch 86/100\n",
      " - 1s - loss: 0.0028\n",
      "Epoch 87/100\n",
      " - 1s - loss: 0.0028\n",
      "Epoch 88/100\n",
      " - 1s - loss: 0.0026\n",
      "Epoch 89/100\n",
      " - 1s - loss: 0.0027\n",
      "Epoch 90/100\n",
      " - 1s - loss: 0.0028\n",
      "Epoch 91/100\n",
      " - 1s - loss: 0.0027\n",
      "Epoch 92/100\n",
      " - 1s - loss: 0.0028\n",
      "Epoch 93/100\n",
      " - 1s - loss: 0.0027\n",
      "Epoch 94/100\n",
      " - 1s - loss: 0.0026\n",
      "Epoch 95/100\n",
      " - 1s - loss: 0.0026\n",
      "Epoch 96/100\n",
      " - 1s - loss: 0.0026\n",
      "Epoch 97/100\n",
      " - 1s - loss: 0.0026\n",
      "Epoch 98/100\n",
      " - 1s - loss: 0.0026\n",
      "Epoch 99/100\n",
      " - 1s - loss: 0.0026\n",
      "Epoch 100/100\n",
      " - 1s - loss: 0.0026\n"
     ]
    },
    {
     "data": {
      "text/plain": [
       "<tensorflow.python.keras.callbacks.History at 0x7f438a1110f0>"
      ]
     },
     "execution_count": 15,
     "metadata": {},
     "output_type": "execute_result"
    }
   ],
   "source": [
    "model.fit(trainX, trainY, epochs=100, batch_size=1, verbose=2)"
   ]
  },
  {
   "cell_type": "markdown",
   "metadata": {},
   "source": [
    "### 4.3 モデルによる予測\n",
    "\n",
    "予測の精度をRMSEで評価してみましょう。ここではイメージが湧くように、正規化を解いて人数の単位で出力しています。"
   ]
  },
  {
   "cell_type": "code",
   "execution_count": 16,
   "metadata": {},
   "outputs": [
    {
     "name": "stdout",
     "output_type": "stream",
     "text": [
      "Train RMSE: 25.56\n",
      "Test RMSE: 54.25\n"
     ]
    }
   ],
   "source": [
    "import math\n",
    "from sklearn.metrics import mean_squared_error\n",
    "\n",
    "# テストデータに対する予測（評価のため訓練データも）\n",
    "trainPredict = model.predict(trainX)\n",
    "testPredict = model.predict(testX)\n",
    "\n",
    "# 正規化を元に戻す\n",
    "trainPredict = scaler.inverse_transform(trainPredict)\n",
    "trainY = scaler.inverse_transform([trainY])\n",
    "testPredict = scaler.inverse_transform(testPredict)\n",
    "testY = scaler.inverse_transform([testY])\n",
    "\n",
    "# 平均二乗誤差のルートで評価\n",
    "trainScore = math.sqrt(mean_squared_error(trainY[0], trainPredict[:,0]))\n",
    "print('Train RMSE: %.2f' % (trainScore))\n",
    "testScore = math.sqrt(mean_squared_error(testY[0], testPredict[:,0]))\n",
    "print('Test RMSE: %.2f' % (testScore))"
   ]
  },
  {
   "cell_type": "markdown",
   "metadata": {},
   "source": [
    "最後に、予測データのプロットを行って視覚的に評価を行いましょう。"
   ]
  },
  {
   "cell_type": "code",
   "execution_count": 17,
   "metadata": {},
   "outputs": [
    {
     "data": {
      "image/png": "[encoded data removed]",
      "text/plain": [
       "<Figure size 432x288 with 1 Axes>"
      ]
     },
     "metadata": {
      "needs_background": "light"
     },
     "output_type": "display_data"
    }
   ],
   "source": [
    "import matplotlib.pyplot as plt\n",
    "\n",
    "# 訓練データ部分の予測データ\n",
    "trainPredictPlot = np.empty_like(dataset)\n",
    "trainPredictPlot[:, :] = np.nan\n",
    "trainPredictPlot[look_back:len(trainPredict)+look_back, :] = trainPredict\n",
    "\n",
    "# テストデータ部分の予測データ\n",
    "testPredictPlot = np.empty_like(dataset)\n",
    "testPredictPlot[:, :] = np.nan\n",
    "testPredictPlot[len(trainPredict)+(look_back*2)+1:len(dataset)-1, :] = testPredict\n",
    "\n",
    "plt.plot(scaler.inverse_transform(dataset), label='Dataset')\n",
    "plt.plot(trainPredictPlot, label='Prediction under train data')\n",
    "plt.plot(testPredictPlot, label='Prediction under test data')\n",
    "plt.legend()\n",
    "plt.show()"
   ]
  },
  {
   "cell_type": "markdown",
   "metadata": {},
   "source": [
    "### 4.4 モデルの可視化"
   ]
  },
  {
   "cell_type": "code",
   "execution_count": 18,
   "metadata": {},
   "outputs": [
    {
     "data": {
      "image/svg+xml": [
       "<svg height=\"191pt\" viewBox=\"0.00 0.00 137.00 191.00\" width=\"137pt\" xmlns=\"http://www.w3.org/2000/svg\" xmlns:xlink=\"http://www.w3.org/1999/xlink\">\n",
       "<g class=\"graph\" id=\"graph0\" transform=\"scale(1 1) rotate(0) translate(4 187)\">\n",
       "<title>G</title>\n",
       "<polygon fill=\"white\" points=\"-4,4 -4,-187 133,-187 133,4 -4,4\" stroke=\"transparent\"/>\n",
       "<!-- 139928294442880 -->\n",
       "<g class=\"node\" id=\"node1\">\n",
       "<title>139928294442880</title>\n",
       "<polygon fill=\"none\" points=\"21,-73.5 21,-109.5 108,-109.5 108,-73.5 21,-73.5\" stroke=\"black\"/>\n",
       "<text font-family=\"Times,serif\" font-size=\"14.00\" text-anchor=\"middle\" x=\"64.5\" y=\"-87.8\">lstm: LSTM</text>\n",
       "</g>\n",
       "<!-- 139928080290760 -->\n",
       "<g class=\"node\" id=\"node2\">\n",
       "<title>139928080290760</title>\n",
       "<polygon fill=\"none\" points=\"18.5,-0.5 18.5,-36.5 110.5,-36.5 110.5,-0.5 18.5,-0.5\" stroke=\"black\"/>\n",
       "<text font-family=\"Times,serif\" font-size=\"14.00\" text-anchor=\"middle\" x=\"64.5\" y=\"-14.8\">dense: Dense</text>\n",
       "</g>\n",
       "<!-- 139928294442880&#45;&gt;139928080290760 -->\n",
       "<g class=\"edge\" id=\"edge2\">\n",
       "<title>139928294442880-&gt;139928080290760</title>\n",
       "<path d=\"M64.5,-73.31C64.5,-65.29 64.5,-55.55 64.5,-46.57\" fill=\"none\" stroke=\"black\"/>\n",
       "<polygon fill=\"black\" points=\"68,-46.53 64.5,-36.53 61,-46.53 68,-46.53\" stroke=\"black\"/>\n",
       "</g>\n",
       "<!-- 139928080291208 -->\n",
       "<g class=\"node\" id=\"node3\">\n",
       "<title>139928080291208</title>\n",
       "<polygon fill=\"none\" points=\"0,-146.5 0,-182.5 129,-182.5 129,-146.5 0,-146.5\" stroke=\"black\"/>\n",
       "<text font-family=\"Times,serif\" font-size=\"14.00\" text-anchor=\"middle\" x=\"64.5\" y=\"-160.8\">139928080291208</text>\n",
       "</g>\n",
       "<!-- 139928080291208&#45;&gt;139928294442880 -->\n",
       "<g class=\"edge\" id=\"edge1\">\n",
       "<title>139928080291208-&gt;139928294442880</title>\n",
       "<path d=\"M64.5,-146.31C64.5,-138.29 64.5,-128.55 64.5,-119.57\" fill=\"none\" stroke=\"black\"/>\n",
       "<polygon fill=\"black\" points=\"68,-119.53 64.5,-109.53 61,-119.53 68,-119.53\" stroke=\"black\"/>\n",
       "</g>\n",
       "</g>\n",
       "</svg>"
      ],
      "text/plain": [
       "<IPython.core.display.SVG object>"
      ]
     },
     "execution_count": 18,
     "metadata": {},
     "output_type": "execute_result"
    }
   ],
   "source": [
    "from IPython.display import SVG\n",
    "from tensorflow.python.keras.utils.vis_utils import model_to_dot\n",
    "\n",
    "SVG(model_to_dot(model).create(prog='dot', format='svg'))"
   ]
  },
  {
   "cell_type": "code",
   "execution_count": null,
   "metadata": {},
   "outputs": [],
   "source": []
  }
 ],
 "metadata": {
  "kernelspec": {
   "display_name": "Python 3",
   "language": "python",
   "name": "python3"
  },
  "language_info": {
   "codemirror_mode": {
    "name": "ipython",
    "version": 3
   },
   "file_extension": ".py",
   "mimetype": "text/x-python",
   "name": "python",
   "nbconvert_exporter": "python",
   "pygments_lexer": "ipython3",
   "version": "3.7.3"
  }
 },
 "nbformat": 4,
 "nbformat_minor": 2
}
