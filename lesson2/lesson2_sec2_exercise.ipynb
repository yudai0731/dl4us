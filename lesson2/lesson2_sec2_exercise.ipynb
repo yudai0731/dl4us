{
 "cells": [
  {
   "cell_type": "markdown",
   "metadata": {},
   "source": [
    "# Lesson2 畳み込みニューラルネットワーク (CNN)"
   ]
  },
  {
   "cell_type": "markdown",
   "metadata": {},
   "source": [
    "## 目次\n",
    "\n",
    "- Section1 解説\n",
    "  - 1.1 CNN基礎\n",
    "  - 1.2 Convolution(畳み込み)層\n",
    "  - 1.3 Pooling(プーリング)層\n",
    "  - 1.4 確認問題\n",
    "- Section2 実装①\n",
    "  - 2.1 Fasion MNISTをCNNでクラス分類\n",
    "  - 2.2 CIFAR10のデータをCNNでクラス分類\n",
    "- Section3 テクニック・発展内容\n",
    "  - 3.1 Data Augmentation\n",
    "  - 3.2 画像データの正規化\n",
    "  - 3.3 Batch Normalization\n",
    "  - 3.4 Skip Connection  (Residual Network)\n",
    "  - 3.5 学習済みネットワークの利用\n",
    "  - 3.6 学習させたモデルの保存・再利用\n",
    "  - 3.7 確認問題\n",
    "- Section4 実装②\n",
    "  - 4.1 CIFAR10のデータをCNNでクラス分類②\n",
    "- Section5 ケーススタディ"
   ]
  },
  {
   "cell_type": "markdown",
   "metadata": {},
   "source": [
    "## 1.4の解答\n",
    "問1: ①\n",
    "問2: ①\n",
    "問3: ①\n",
    "問4: ①\n",
    "問5: ①"
   ]
  },
  {
   "cell_type": "code",
   "execution_count": 1,
   "metadata": {},
   "outputs": [
    {
     "name": "stderr",
     "output_type": "stream",
     "text": [
      "/opt/conda/lib/python3.7/site-packages/tensorflow/python/framework/dtypes.py:526: FutureWarning: Passing (type, 1) or '1type' as a synonym of type is deprecated; in a future version of numpy, it will be understood as (type, (1,)) / '(1,)type'.\n",
      "  _np_qint8 = np.dtype([(\"qint8\", np.int8, 1)])\n",
      "/opt/conda/lib/python3.7/site-packages/tensorflow/python/framework/dtypes.py:527: FutureWarning: Passing (type, 1) or '1type' as a synonym of type is deprecated; in a future version of numpy, it will be understood as (type, (1,)) / '(1,)type'.\n",
      "  _np_quint8 = np.dtype([(\"quint8\", np.uint8, 1)])\n",
      "/opt/conda/lib/python3.7/site-packages/tensorflow/python/framework/dtypes.py:528: FutureWarning: Passing (type, 1) or '1type' as a synonym of type is deprecated; in a future version of numpy, it will be understood as (type, (1,)) / '(1,)type'.\n",
      "  _np_qint16 = np.dtype([(\"qint16\", np.int16, 1)])\n",
      "/opt/conda/lib/python3.7/site-packages/tensorflow/python/framework/dtypes.py:529: FutureWarning: Passing (type, 1) or '1type' as a synonym of type is deprecated; in a future version of numpy, it will be understood as (type, (1,)) / '(1,)type'.\n",
      "  _np_quint16 = np.dtype([(\"quint16\", np.uint16, 1)])\n",
      "/opt/conda/lib/python3.7/site-packages/tensorflow/python/framework/dtypes.py:530: FutureWarning: Passing (type, 1) or '1type' as a synonym of type is deprecated; in a future version of numpy, it will be understood as (type, (1,)) / '(1,)type'.\n",
      "  _np_qint32 = np.dtype([(\"qint32\", np.int32, 1)])\n",
      "/opt/conda/lib/python3.7/site-packages/tensorflow/python/framework/dtypes.py:535: FutureWarning: Passing (type, 1) or '1type' as a synonym of type is deprecated; in a future version of numpy, it will be understood as (type, (1,)) / '(1,)type'.\n",
      "  np_resource = np.dtype([(\"resource\", np.ubyte, 1)])\n"
     ]
    }
   ],
   "source": [
    "%matplotlib inline\n",
    "\n",
    "import os\n",
    "\n",
    "import tensorflow.keras as keras\n",
    "import numpy as np\n",
    "import matplotlib.pyplot as plt\n",
    "\n",
    "from tensorflow.keras.layers import Dense, Conv2D, MaxPooling2D, Flatten, Input, Activation, add, Add, Dropout, BatchNormalization\n",
    "from tensorflow.keras.callbacks import EarlyStopping\n",
    "from tensorflow.keras.models import Sequential, Model\n",
    "from tensorflow.keras.datasets import cifar10\n",
    "from tensorflow.keras.datasets import fashion_mnist\n",
    "from tensorflow.keras.utils import to_categorical\n",
    "from sklearn.model_selection import train_test_split\n",
    "\n",
    "from IPython.display import SVG\n",
    "from tensorflow.python.keras.utils.vis_utils import model_to_dot\n",
    "\n",
    "random_state = 42"
   ]
  },
  {
   "cell_type": "markdown",
   "metadata": {},
   "source": [
    "## Section2 実装①"
   ]
  },
  {
   "cell_type": "markdown",
   "metadata": {},
   "source": [
    "### 2.1 Fasion MNISTをCNNでクラス分類"
   ]
  },
  {
   "cell_type": "markdown",
   "metadata": {},
   "source": [
    "まずは、Lesson1でも扱ったFashion MNISTのデータを今回はCNNを利用してクラス分類していきます。"
   ]
  },
  {
   "cell_type": "markdown",
   "metadata": {},
   "source": [
    "#### 2.1.1 データセットの読み込み"
   ]
  },
  {
   "cell_type": "code",
   "execution_count": 2,
   "metadata": {},
   "outputs": [],
   "source": [
    "(x_train, y_train), (x_test, y_test) = fashion_mnist.load_data()"
   ]
  },
  {
   "cell_type": "code",
   "execution_count": 3,
   "metadata": {},
   "outputs": [
    {
     "data": {
      "image/png": "[encoded data removed]",
      "text/plain": [
       "<Figure size 648x1080 with 9 Axes>"
      ]
     },
     "metadata": {},
     "output_type": "display_data"
    }
   ],
   "source": [
    "fig = plt.figure(figsize=(9, 15))\n",
    "fig.subplots_adjust(left=0, right=1, bottom=0, top=0.5, hspace=0.05,\n",
    "                    wspace=0.05)\n",
    "\n",
    "for i in range(9):\n",
    "    ax = fig.add_subplot(1, 9, i + 1, xticks=[], yticks=[])\n",
    "    ax.imshow(x_train[i], cmap='gray')"
   ]
  },
  {
   "cell_type": "markdown",
   "metadata": {},
   "source": [
    "このとき読み込んだ画像は(バッチサイズ、縦の画素数、 横の画素数)の次元で表されています。"
   ]
  },
  {
   "cell_type": "code",
   "execution_count": 4,
   "metadata": {},
   "outputs": [
    {
     "data": {
      "text/plain": [
       "(60000, 28, 28)"
      ]
     },
     "execution_count": 4,
     "metadata": {},
     "output_type": "execute_result"
    }
   ],
   "source": [
    "x_train.shape"
   ]
  },
  {
   "cell_type": "code",
   "execution_count": 5,
   "metadata": {},
   "outputs": [],
   "source": [
    "x_train = x_train.reshape((x_train.shape[0], 28, 28, 1)) / 255\n",
    "x_test = x_test.reshape((x_test.shape[0], 28, 28, 1)) / 255\n",
    "y_train = to_categorical(y_train)\n",
    "y_test = to_categorical(y_test)"
   ]
  },
  {
   "cell_type": "markdown",
   "metadata": {},
   "source": [
    "Lesson1の多層パーセプトロンでは入力を (バッチサイズ、画素数) の2次元テンソルとして扱いましたが、 CNNでは2次元の画像として処理していくために4次元テンソル (バッチサイズ、縦の画素数、横の画素数、チャンネル数)として扱います。 チャンネル数は白黒画像の場合は1、 カラー画像の場合はRGBで3です。\n",
    "\n",
    "Fashion MNISTの画像は白黒データですのでチャンネル数を1に設定しています。(カラー画像の場合はチャンネル数が3になります)"
   ]
  },
  {
   "cell_type": "code",
   "execution_count": 8,
   "metadata": {},
   "outputs": [
    {
     "data": {
      "text/plain": [
       "(60000, 28, 28, 1)"
      ]
     },
     "execution_count": 8,
     "metadata": {},
     "output_type": "execute_result"
    }
   ],
   "source": [
    "x_train.shape"
   ]
  },
  {
   "cell_type": "markdown",
   "metadata": {},
   "source": [
    "#### 2.1.2 実装"
   ]
  },
  {
   "cell_type": "code",
   "execution_count": 9,
   "metadata": {},
   "outputs": [
    {
     "name": "stdout",
     "output_type": "stream",
     "text": [
      "WARNING:tensorflow:From /opt/conda/lib/python3.7/site-packages/tensorflow/python/ops/resource_variable_ops.py:435: colocate_with (from tensorflow.python.framework.ops) is deprecated and will be removed in a future version.\n",
      "Instructions for updating:\n",
      "Colocations handled automatically by placer.\n"
     ]
    }
   ],
   "source": [
    "model = Sequential()\n",
    "\n",
    "# 入力画像 28x28x1 (縦の画素数)x(横の画素数)x(チャンネル数)\n",
    "\n",
    "# input size : (28,28,1)\n",
    "# filter : 16\n",
    "# filter size : (5,5)\n",
    "# stride : (1,1)\n",
    "# padding : (0,0)\n",
    "# output size (24,24,16)\n",
    "model.add(Conv2D(16, kernel_size=(5, 5), activation='relu',\n",
    "                 kernel_initializer='he_normal', input_shape=(28, 28, 1)))  # 28x28x1 -> 24x24x16\n",
    "\n",
    "# input size : (24,24,16)\n",
    "# pooling size : (2,2)\n",
    "# output size : (12,12,16)\n",
    "model.add(MaxPooling2D(pool_size=(2, 2)))  # 24x24x16 -> 12x12x16\n",
    "\n",
    "# input size : (12,12,16)\n",
    "# filter : 64\n",
    "# filter size : (5,5)\n",
    "# stride : (1,1)\n",
    "# padding : (0,0)\n",
    "# output size (8,8,64)\n",
    "model.add(Conv2D(64, kernel_size=(5, 5), activation='relu',\n",
    "                 kernel_initializer='he_normal'))  # 12x12x16 -> 8x8x64\n",
    "\n",
    "# input size : (8,8,64)\n",
    "# pooling size : (2,2)\n",
    "# output size : (4,4,64)\n",
    "model.add(MaxPooling2D(pool_size=(2, 2)))  # 8x8x64 -> 4x4x64\n",
    "\n",
    "# 全結合\n",
    "model.add(Flatten())  # 4x4x64-> 1024\n",
    "model.add(Dense(10, activation='softmax'))  # 1024 -> 10\n",
    "\n",
    "model.compile(\n",
    "    loss=keras.losses.categorical_crossentropy,\n",
    "    optimizer='adam',\n",
    "    metrics=['accuracy']\n",
    ")"
   ]
  },
  {
   "cell_type": "markdown",
   "metadata": {},
   "source": [
    "作成したモデルを確認してみましょう。"
   ]
  },
  {
   "cell_type": "code",
   "execution_count": 10,
   "metadata": {},
   "outputs": [
    {
     "data": {
      "image/svg+xml": [
       "<svg height=\"543pt\" viewBox=\"0.00 0.00 397.00 543.00\" width=\"397pt\" xmlns=\"http://www.w3.org/2000/svg\" xmlns:xlink=\"http://www.w3.org/1999/xlink\">\n",
       "<g class=\"graph\" id=\"graph0\" transform=\"scale(1 1) rotate(0) translate(4 539)\">\n",
       "<title>G</title>\n",
       "<polygon fill=\"white\" points=\"-4,4 -4,-539 393,-539 393,4 -4,4\" stroke=\"transparent\"/>\n",
       "<!-- 140252965925832 -->\n",
       "<g class=\"node\" id=\"node1\">\n",
       "<title>140252965925832</title>\n",
       "<polygon fill=\"none\" points=\"44,-415.5 44,-461.5 345,-461.5 345,-415.5 44,-415.5\" stroke=\"black\"/>\n",
       "<text font-family=\"Times,serif\" font-size=\"14.00\" text-anchor=\"middle\" x=\"103\" y=\"-434.8\">conv2d: Conv2D</text>\n",
       "<polyline fill=\"none\" points=\"162,-415.5 162,-461.5 \" stroke=\"black\"/>\n",
       "<text font-family=\"Times,serif\" font-size=\"14.00\" text-anchor=\"middle\" x=\"191\" y=\"-446.3\">input:</text>\n",
       "<polyline fill=\"none\" points=\"162,-438.5 220,-438.5 \" stroke=\"black\"/>\n",
       "<text font-family=\"Times,serif\" font-size=\"14.00\" text-anchor=\"middle\" x=\"191\" y=\"-423.3\">output:</text>\n",
       "<polyline fill=\"none\" points=\"220,-415.5 220,-461.5 \" stroke=\"black\"/>\n",
       "<text font-family=\"Times,serif\" font-size=\"14.00\" text-anchor=\"middle\" x=\"282.5\" y=\"-446.3\">(None, 28, 28, 1)</text>\n",
       "<polyline fill=\"none\" points=\"220,-438.5 345,-438.5 \" stroke=\"black\"/>\n",
       "<text font-family=\"Times,serif\" font-size=\"14.00\" text-anchor=\"middle\" x=\"282.5\" y=\"-423.3\">(None, 24, 24, 16)</text>\n",
       "</g>\n",
       "<!-- 140252965925776 -->\n",
       "<g class=\"node\" id=\"node2\">\n",
       "<title>140252965925776</title>\n",
       "<polygon fill=\"none\" points=\"0,-332.5 0,-378.5 389,-378.5 389,-332.5 0,-332.5\" stroke=\"black\"/>\n",
       "<text font-family=\"Times,serif\" font-size=\"14.00\" text-anchor=\"middle\" x=\"103\" y=\"-351.8\">max_pooling2d: MaxPooling2D</text>\n",
       "<polyline fill=\"none\" points=\"206,-332.5 206,-378.5 \" stroke=\"black\"/>\n",
       "<text font-family=\"Times,serif\" font-size=\"14.00\" text-anchor=\"middle\" x=\"235\" y=\"-363.3\">input:</text>\n",
       "<polyline fill=\"none\" points=\"206,-355.5 264,-355.5 \" stroke=\"black\"/>\n",
       "<text font-family=\"Times,serif\" font-size=\"14.00\" text-anchor=\"middle\" x=\"235\" y=\"-340.3\">output:</text>\n",
       "<polyline fill=\"none\" points=\"264,-332.5 264,-378.5 \" stroke=\"black\"/>\n",
       "<text font-family=\"Times,serif\" font-size=\"14.00\" text-anchor=\"middle\" x=\"326.5\" y=\"-363.3\">(None, 24, 24, 16)</text>\n",
       "<polyline fill=\"none\" points=\"264,-355.5 389,-355.5 \" stroke=\"black\"/>\n",
       "<text font-family=\"Times,serif\" font-size=\"14.00\" text-anchor=\"middle\" x=\"326.5\" y=\"-340.3\">(None, 12, 12, 16)</text>\n",
       "</g>\n",
       "<!-- 140252965925832&#45;&gt;140252965925776 -->\n",
       "<g class=\"edge\" id=\"edge2\">\n",
       "<title>140252965925832-&gt;140252965925776</title>\n",
       "<path d=\"M194.5,-415.37C194.5,-407.15 194.5,-397.66 194.5,-388.73\" fill=\"none\" stroke=\"black\"/>\n",
       "<polygon fill=\"black\" points=\"198,-388.61 194.5,-378.61 191,-388.61 198,-388.61\" stroke=\"black\"/>\n",
       "</g>\n",
       "<!-- 140252965757896 -->\n",
       "<g class=\"node\" id=\"node3\">\n",
       "<title>140252965757896</title>\n",
       "<polygon fill=\"none\" points=\"36.5,-249.5 36.5,-295.5 352.5,-295.5 352.5,-249.5 36.5,-249.5\" stroke=\"black\"/>\n",
       "<text font-family=\"Times,serif\" font-size=\"14.00\" text-anchor=\"middle\" x=\"103\" y=\"-268.8\">conv2d_1: Conv2D</text>\n",
       "<polyline fill=\"none\" points=\"169.5,-249.5 169.5,-295.5 \" stroke=\"black\"/>\n",
       "<text font-family=\"Times,serif\" font-size=\"14.00\" text-anchor=\"middle\" x=\"198.5\" y=\"-280.3\">input:</text>\n",
       "<polyline fill=\"none\" points=\"169.5,-272.5 227.5,-272.5 \" stroke=\"black\"/>\n",
       "<text font-family=\"Times,serif\" font-size=\"14.00\" text-anchor=\"middle\" x=\"198.5\" y=\"-257.3\">output:</text>\n",
       "<polyline fill=\"none\" points=\"227.5,-249.5 227.5,-295.5 \" stroke=\"black\"/>\n",
       "<text font-family=\"Times,serif\" font-size=\"14.00\" text-anchor=\"middle\" x=\"290\" y=\"-280.3\">(None, 12, 12, 16)</text>\n",
       "<polyline fill=\"none\" points=\"227.5,-272.5 352.5,-272.5 \" stroke=\"black\"/>\n",
       "<text font-family=\"Times,serif\" font-size=\"14.00\" text-anchor=\"middle\" x=\"290\" y=\"-257.3\">(None, 8, 8, 64)</text>\n",
       "</g>\n",
       "<!-- 140252965925776&#45;&gt;140252965757896 -->\n",
       "<g class=\"edge\" id=\"edge3\">\n",
       "<title>140252965925776-&gt;140252965757896</title>\n",
       "<path d=\"M194.5,-332.37C194.5,-324.15 194.5,-314.66 194.5,-305.73\" fill=\"none\" stroke=\"black\"/>\n",
       "<polygon fill=\"black\" points=\"198,-305.61 194.5,-295.61 191,-305.61 198,-305.61\" stroke=\"black\"/>\n",
       "</g>\n",
       "<!-- 140251650058560 -->\n",
       "<g class=\"node\" id=\"node4\">\n",
       "<title>140251650058560</title>\n",
       "<polygon fill=\"none\" points=\"0,-166.5 0,-212.5 389,-212.5 389,-166.5 0,-166.5\" stroke=\"black\"/>\n",
       "<text font-family=\"Times,serif\" font-size=\"14.00\" text-anchor=\"middle\" x=\"110.5\" y=\"-185.8\">max_pooling2d_1: MaxPooling2D</text>\n",
       "<polyline fill=\"none\" points=\"221,-166.5 221,-212.5 \" stroke=\"black\"/>\n",
       "<text font-family=\"Times,serif\" font-size=\"14.00\" text-anchor=\"middle\" x=\"250\" y=\"-197.3\">input:</text>\n",
       "<polyline fill=\"none\" points=\"221,-189.5 279,-189.5 \" stroke=\"black\"/>\n",
       "<text font-family=\"Times,serif\" font-size=\"14.00\" text-anchor=\"middle\" x=\"250\" y=\"-174.3\">output:</text>\n",
       "<polyline fill=\"none\" points=\"279,-166.5 279,-212.5 \" stroke=\"black\"/>\n",
       "<text font-family=\"Times,serif\" font-size=\"14.00\" text-anchor=\"middle\" x=\"334\" y=\"-197.3\">(None, 8, 8, 64)</text>\n",
       "<polyline fill=\"none\" points=\"279,-189.5 389,-189.5 \" stroke=\"black\"/>\n",
       "<text font-family=\"Times,serif\" font-size=\"14.00\" text-anchor=\"middle\" x=\"334\" y=\"-174.3\">(None, 4, 4, 64)</text>\n",
       "</g>\n",
       "<!-- 140252965757896&#45;&gt;140251650058560 -->\n",
       "<g class=\"edge\" id=\"edge4\">\n",
       "<title>140252965757896-&gt;140251650058560</title>\n",
       "<path d=\"M194.5,-249.37C194.5,-241.15 194.5,-231.66 194.5,-222.73\" fill=\"none\" stroke=\"black\"/>\n",
       "<polygon fill=\"black\" points=\"198,-222.61 194.5,-212.61 191,-222.61 198,-222.61\" stroke=\"black\"/>\n",
       "</g>\n",
       "<!-- 140251650243776 -->\n",
       "<g class=\"node\" id=\"node5\">\n",
       "<title>140251650243776</title>\n",
       "<polygon fill=\"none\" points=\"61.5,-83.5 61.5,-129.5 327.5,-129.5 327.5,-83.5 61.5,-83.5\" stroke=\"black\"/>\n",
       "<text font-family=\"Times,serif\" font-size=\"14.00\" text-anchor=\"middle\" x=\"110.5\" y=\"-102.8\">flatten: Flatten</text>\n",
       "<polyline fill=\"none\" points=\"159.5,-83.5 159.5,-129.5 \" stroke=\"black\"/>\n",
       "<text font-family=\"Times,serif\" font-size=\"14.00\" text-anchor=\"middle\" x=\"188.5\" y=\"-114.3\">input:</text>\n",
       "<polyline fill=\"none\" points=\"159.5,-106.5 217.5,-106.5 \" stroke=\"black\"/>\n",
       "<text font-family=\"Times,serif\" font-size=\"14.00\" text-anchor=\"middle\" x=\"188.5\" y=\"-91.3\">output:</text>\n",
       "<polyline fill=\"none\" points=\"217.5,-83.5 217.5,-129.5 \" stroke=\"black\"/>\n",
       "<text font-family=\"Times,serif\" font-size=\"14.00\" text-anchor=\"middle\" x=\"272.5\" y=\"-114.3\">(None, 4, 4, 64)</text>\n",
       "<polyline fill=\"none\" points=\"217.5,-106.5 327.5,-106.5 \" stroke=\"black\"/>\n",
       "<text font-family=\"Times,serif\" font-size=\"14.00\" text-anchor=\"middle\" x=\"272.5\" y=\"-91.3\">(None, 1024)</text>\n",
       "</g>\n",
       "<!-- 140251650058560&#45;&gt;140251650243776 -->\n",
       "<g class=\"edge\" id=\"edge5\">\n",
       "<title>140251650058560-&gt;140251650243776</title>\n",
       "<path d=\"M194.5,-166.37C194.5,-158.15 194.5,-148.66 194.5,-139.73\" fill=\"none\" stroke=\"black\"/>\n",
       "<polygon fill=\"black\" points=\"198,-139.61 194.5,-129.61 191,-139.61 198,-139.61\" stroke=\"black\"/>\n",
       "</g>\n",
       "<!-- 140251732595600 -->\n",
       "<g class=\"node\" id=\"node6\">\n",
       "<title>140251732595600</title>\n",
       "<polygon fill=\"none\" points=\"72,-0.5 72,-46.5 317,-46.5 317,-0.5 72,-0.5\" stroke=\"black\"/>\n",
       "<text font-family=\"Times,serif\" font-size=\"14.00\" text-anchor=\"middle\" x=\"118\" y=\"-19.8\">dense: Dense</text>\n",
       "<polyline fill=\"none\" points=\"164,-0.5 164,-46.5 \" stroke=\"black\"/>\n",
       "<text font-family=\"Times,serif\" font-size=\"14.00\" text-anchor=\"middle\" x=\"193\" y=\"-31.3\">input:</text>\n",
       "<polyline fill=\"none\" points=\"164,-23.5 222,-23.5 \" stroke=\"black\"/>\n",
       "<text font-family=\"Times,serif\" font-size=\"14.00\" text-anchor=\"middle\" x=\"193\" y=\"-8.3\">output:</text>\n",
       "<polyline fill=\"none\" points=\"222,-0.5 222,-46.5 \" stroke=\"black\"/>\n",
       "<text font-family=\"Times,serif\" font-size=\"14.00\" text-anchor=\"middle\" x=\"269.5\" y=\"-31.3\">(None, 1024)</text>\n",
       "<polyline fill=\"none\" points=\"222,-23.5 317,-23.5 \" stroke=\"black\"/>\n",
       "<text font-family=\"Times,serif\" font-size=\"14.00\" text-anchor=\"middle\" x=\"269.5\" y=\"-8.3\">(None, 10)</text>\n",
       "</g>\n",
       "<!-- 140251650243776&#45;&gt;140251732595600 -->\n",
       "<g class=\"edge\" id=\"edge6\">\n",
       "<title>140251650243776-&gt;140251732595600</title>\n",
       "<path d=\"M194.5,-83.37C194.5,-75.15 194.5,-65.66 194.5,-56.73\" fill=\"none\" stroke=\"black\"/>\n",
       "<polygon fill=\"black\" points=\"198,-56.61 194.5,-46.61 191,-56.61 198,-56.61\" stroke=\"black\"/>\n",
       "</g>\n",
       "<!-- 140251744546152 -->\n",
       "<g class=\"node\" id=\"node7\">\n",
       "<title>140251744546152</title>\n",
       "<polygon fill=\"none\" points=\"130,-498.5 130,-534.5 259,-534.5 259,-498.5 130,-498.5\" stroke=\"black\"/>\n",
       "<text font-family=\"Times,serif\" font-size=\"14.00\" text-anchor=\"middle\" x=\"194.5\" y=\"-512.8\">140251744546152</text>\n",
       "</g>\n",
       "<!-- 140251744546152&#45;&gt;140252965925832 -->\n",
       "<g class=\"edge\" id=\"edge1\">\n",
       "<title>140251744546152-&gt;140252965925832</title>\n",
       "<path d=\"M194.5,-498.25C194.5,-490.36 194.5,-480.75 194.5,-471.6\" fill=\"none\" stroke=\"black\"/>\n",
       "<polygon fill=\"black\" points=\"198,-471.59 194.5,-461.59 191,-471.59 198,-471.59\" stroke=\"black\"/>\n",
       "</g>\n",
       "</g>\n",
       "</svg>"
      ],
      "text/plain": [
       "<IPython.core.display.SVG object>"
      ]
     },
     "execution_count": 10,
     "metadata": {},
     "output_type": "execute_result"
    }
   ],
   "source": [
    "SVG(model_to_dot(model, show_shapes=True).create(prog='dot', format='svg'))"
   ]
  },
  {
   "cell_type": "code",
   "execution_count": 11,
   "metadata": {},
   "outputs": [
    {
     "name": "stdout",
     "output_type": "stream",
     "text": [
      "Train on 60000 samples, validate on 10000 samples\n",
      "WARNING:tensorflow:From /opt/conda/lib/python3.7/site-packages/tensorflow/python/ops/math_ops.py:3066: to_int32 (from tensorflow.python.ops.math_ops) is deprecated and will be removed in a future version.\n",
      "Instructions for updating:\n",
      "Use tf.cast instead.\n",
      "Epoch 1/100\n",
      "60000/60000 [==============================] - 11s 179us/sample - loss: 0.5368 - acc: 0.8091 - val_loss: 0.3944 - val_acc: 0.8594\n",
      "Epoch 2/100\n",
      "60000/60000 [==============================] - 10s 172us/sample - loss: 0.3510 - acc: 0.8749 - val_loss: 0.3696 - val_acc: 0.8668\n",
      "Epoch 3/100\n",
      "60000/60000 [==============================] - 11s 181us/sample - loss: 0.3075 - acc: 0.8910 - val_loss: 0.3199 - val_acc: 0.8846\n",
      "Epoch 4/100\n",
      "60000/60000 [==============================] - 12s 193us/sample - loss: 0.2776 - acc: 0.9006 - val_loss: 0.3055 - val_acc: 0.8918\n",
      "Epoch 5/100\n",
      "60000/60000 [==============================] - 10s 174us/sample - loss: 0.2570 - acc: 0.9081 - val_loss: 0.3011 - val_acc: 0.8912\n",
      "Epoch 6/100\n",
      "60000/60000 [==============================] - 10s 175us/sample - loss: 0.2392 - acc: 0.9126 - val_loss: 0.2943 - val_acc: 0.8946\n",
      "Epoch 7/100\n",
      "60000/60000 [==============================] - 10s 172us/sample - loss: 0.2254 - acc: 0.9177 - val_loss: 0.2965 - val_acc: 0.8946\n",
      "Epoch 00007: early stopping\n"
     ]
    },
    {
     "data": {
      "text/plain": [
       "<tensorflow.python.keras.callbacks.History at 0x7f8f2043d9e8>"
      ]
     },
     "execution_count": 11,
     "metadata": {},
     "output_type": "execute_result"
    }
   ],
   "source": [
    "early_stopping = EarlyStopping(patience=1, verbose=1)\n",
    "model.fit(x=x_train, y=y_train, batch_size=128, epochs=100, verbose=1,\n",
    "          validation_data=(x_test, y_test), callbacks=[early_stopping])"
   ]
  },
  {
   "cell_type": "markdown",
   "metadata": {},
   "source": [
    "### 2.2 CIFAR10のデータをCNNでクラス分類"
   ]
  },
  {
   "cell_type": "markdown",
   "metadata": {},
   "source": [
    "####  2.2.1 データセットの読み込み"
   ]
  },
  {
   "cell_type": "markdown",
   "metadata": {},
   "source": [
    "6万枚のカラー画像に10のカテゴリのどれかが付与されたCIFAR-10というデータセットを使用します。\n",
    "\n",
    "まず、データを読み込みます。"
   ]
  },
  {
   "cell_type": "code",
   "execution_count": 12,
   "metadata": {},
   "outputs": [
    {
     "name": "stdout",
     "output_type": "stream",
     "text": [
      "Downloading data from https://www.cs.toronto.edu/~kriz/cifar-10-python.tar.gz\n",
      "170500096/170498071 [==============================] - 15s 0us/step\n"
     ]
    }
   ],
   "source": [
    "(x_train, y_train), (x_test, y_test) = cifar10.load_data()\n",
    "\n",
    "x_train = x_train.astype('float32') / 255\n",
    "y_train = np.eye(10)[y_train.astype('int32').flatten()]\n",
    "\n",
    "x_test = x_test.astype('float32') / 255\n",
    "y_test = np.eye(10)[y_test.astype('int32').flatten()]\n",
    "\n",
    "x_train, x_valid, y_train, y_valid = train_test_split(\n",
    "    x_train, y_train, test_size=10000)"
   ]
  },
  {
   "cell_type": "markdown",
   "metadata": {},
   "source": [
    "画像はRGBデータなのでFashion MNISTとは異なり、チャンネル数は3になります。"
   ]
  },
  {
   "cell_type": "code",
   "execution_count": 13,
   "metadata": {},
   "outputs": [
    {
     "data": {
      "text/plain": [
       "(40000, 32, 32, 3)"
      ]
     },
     "execution_count": 13,
     "metadata": {},
     "output_type": "execute_result"
    }
   ],
   "source": [
    "x_train.shape"
   ]
  },
  {
   "cell_type": "markdown",
   "metadata": {},
   "source": [
    "次に、CIFAR-10の画像の例を表示してみます。この画像ひとつひとつに10のカテゴリのうちひとつが付与されています。"
   ]
  },
  {
   "cell_type": "code",
   "execution_count": 14,
   "metadata": {},
   "outputs": [
    {
     "data": {
      "image/png": "[encoded data removed]",
      "text/plain": [
       "<Figure size 648x1080 with 9 Axes>"
      ]
     },
     "metadata": {},
     "output_type": "display_data"
    }
   ],
   "source": [
    "fig = plt.figure(figsize=(9, 15))\n",
    "fig.subplots_adjust(left=0, right=1, bottom=0, top=0.5, hspace=0.05,\n",
    "                    wspace=0.05)\n",
    "\n",
    "for i in range(9):\n",
    "    ax = fig.add_subplot(1, 9, i + 1, xticks=[], yticks=[])\n",
    "    ax.imshow(x_train[i])"
   ]
  },
  {
   "cell_type": "markdown",
   "metadata": {},
   "source": [
    "以下のネットワークを実装してみます。\n",
    "\n",
    "![](./figures/lenet.png)\n",
    "\n",
    "Y. LeCun et al., \"Gradient-based learning applied to document recognition\", Proceedings of the IEEE, 1998"
   ]
  },
  {
   "cell_type": "markdown",
   "metadata": {},
   "source": [
    "#### 2.2.2 実装"
   ]
  },
  {
   "cell_type": "code",
   "execution_count": 17,
   "metadata": {},
   "outputs": [],
   "source": [
    "model = Sequential()\n",
    "\n",
    "# input size : (32,32,3)\n",
    "# filter : 6\n",
    "# filter size : (5,5)\n",
    "# stride : (1,1)\n",
    "# padding : (0,0)\n",
    "# output size (28,28,6)\n",
    "model.add(Conv2D(6, kernel_size=(5, 5), activation='relu',\n",
    "                 kernel_initializer='he_normal', input_shape=(32, 32, 3)))  # 32x32x3 -> 28x28x6\n",
    "\n",
    "# input size : (28,28,6)\n",
    "# pooling size : (2,2)\n",
    "# output size : (14,14,6)\n",
    "model.add(MaxPooling2D(pool_size=(2, 2)))  # 28x28x6 -> 14x14x6\n",
    "\n",
    "# input size : (14,14,6)\n",
    "# filter : 16\n",
    "# filter size : (5,5)\n",
    "# stride : (1,1)\n",
    "# padding : (0,0)\n",
    "# output size (10,10,16)\n",
    "model.add(Conv2D(16, kernel_size=(5, 5), activation='relu',\n",
    "                 kernel_initializer='he_normal'))  # 14x14x6 -> 10x10x16\n",
    "\n",
    "# input size : (10,10,16)\n",
    "# pooling size : (2,2)\n",
    "# output size : (5,5,6)\n",
    "model.add(MaxPooling2D(pool_size=(2, 2)))  # 10x10x16 -> 5x5x16\n",
    "\n",
    "# 全結合\n",
    "model.add(Flatten())  # 5x5x16 -> 400\n",
    "model.add(Dense(120, activation='relu',\n",
    "                kernel_initializer='he_normal'))  # 400 ->120\n",
    "model.add(Dense(84, activation='relu', kernel_initializer='he_normal'))  # 120 ->84\n",
    "model.add(Dense(10, activation='softmax'))  # 84 ->10\n",
    "\n",
    "model.compile(\n",
    "    loss=keras.losses.categorical_crossentropy,\n",
    "    optimizer='adam',\n",
    "    metrics=['accuracy']\n",
    ")"
   ]
  },
  {
   "cell_type": "markdown",
   "metadata": {},
   "source": [
    "作成したモデルを確認してみましょう。"
   ]
  },
  {
   "cell_type": "code",
   "execution_count": 18,
   "metadata": {},
   "outputs": [
    {
     "data": {
      "image/svg+xml": [
       "<svg height=\"629pt\" viewBox=\"0.00 0.00 229.00 629.00\" width=\"229pt\" xmlns=\"http://www.w3.org/2000/svg\" xmlns:xlink=\"http://www.w3.org/1999/xlink\">\n",
       "<g class=\"graph\" id=\"graph0\" transform=\"scale(1 1) rotate(0) translate(4 625)\">\n",
       "<title>G</title>\n",
       "<polygon fill=\"white\" points=\"-4,4 -4,-625 225,-625 225,4 -4,4\" stroke=\"transparent\"/>\n",
       "<!-- 140251650768064 -->\n",
       "<g class=\"node\" id=\"node1\">\n",
       "<title>140251650768064</title>\n",
       "<polygon fill=\"none\" points=\"44,-511.5 44,-547.5 177,-547.5 177,-511.5 44,-511.5\" stroke=\"black\"/>\n",
       "<text font-family=\"Times,serif\" font-size=\"14.00\" text-anchor=\"middle\" x=\"110.5\" y=\"-525.8\">conv2d_2: Conv2D</text>\n",
       "</g>\n",
       "<!-- 140251650768232 -->\n",
       "<g class=\"node\" id=\"node2\">\n",
       "<title>140251650768232</title>\n",
       "<polygon fill=\"none\" points=\"0,-438.5 0,-474.5 221,-474.5 221,-438.5 0,-438.5\" stroke=\"black\"/>\n",
       "<text font-family=\"Times,serif\" font-size=\"14.00\" text-anchor=\"middle\" x=\"110.5\" y=\"-452.8\">max_pooling2d_2: MaxPooling2D</text>\n",
       "</g>\n",
       "<!-- 140251650768064&#45;&gt;140251650768232 -->\n",
       "<g class=\"edge\" id=\"edge2\">\n",
       "<title>140251650768064-&gt;140251650768232</title>\n",
       "<path d=\"M110.5,-511.31C110.5,-503.29 110.5,-493.55 110.5,-484.57\" fill=\"none\" stroke=\"black\"/>\n",
       "<polygon fill=\"black\" points=\"114,-484.53 110.5,-474.53 107,-484.53 114,-484.53\" stroke=\"black\"/>\n",
       "</g>\n",
       "<!-- 140251650768400 -->\n",
       "<g class=\"node\" id=\"node3\">\n",
       "<title>140251650768400</title>\n",
       "<polygon fill=\"none\" points=\"44,-365.5 44,-401.5 177,-401.5 177,-365.5 44,-365.5\" stroke=\"black\"/>\n",
       "<text font-family=\"Times,serif\" font-size=\"14.00\" text-anchor=\"middle\" x=\"110.5\" y=\"-379.8\">conv2d_3: Conv2D</text>\n",
       "</g>\n",
       "<!-- 140251650768232&#45;&gt;140251650768400 -->\n",
       "<g class=\"edge\" id=\"edge3\">\n",
       "<title>140251650768232-&gt;140251650768400</title>\n",
       "<path d=\"M110.5,-438.31C110.5,-430.29 110.5,-420.55 110.5,-411.57\" fill=\"none\" stroke=\"black\"/>\n",
       "<polygon fill=\"black\" points=\"114,-411.53 110.5,-401.53 107,-411.53 114,-411.53\" stroke=\"black\"/>\n",
       "</g>\n",
       "<!-- 140251650768456 -->\n",
       "<g class=\"node\" id=\"node4\">\n",
       "<title>140251650768456</title>\n",
       "<polygon fill=\"none\" points=\"0,-292.5 0,-328.5 221,-328.5 221,-292.5 0,-292.5\" stroke=\"black\"/>\n",
       "<text font-family=\"Times,serif\" font-size=\"14.00\" text-anchor=\"middle\" x=\"110.5\" y=\"-306.8\">max_pooling2d_3: MaxPooling2D</text>\n",
       "</g>\n",
       "<!-- 140251650768400&#45;&gt;140251650768456 -->\n",
       "<g class=\"edge\" id=\"edge4\">\n",
       "<title>140251650768400-&gt;140251650768456</title>\n",
       "<path d=\"M110.5,-365.31C110.5,-357.29 110.5,-347.55 110.5,-338.57\" fill=\"none\" stroke=\"black\"/>\n",
       "<polygon fill=\"black\" points=\"114,-338.53 110.5,-328.53 107,-338.53 114,-338.53\" stroke=\"black\"/>\n",
       "</g>\n",
       "<!-- 140252697843136 -->\n",
       "<g class=\"node\" id=\"node5\">\n",
       "<title>140252697843136</title>\n",
       "<polygon fill=\"none\" points=\"54,-219.5 54,-255.5 167,-255.5 167,-219.5 54,-219.5\" stroke=\"black\"/>\n",
       "<text font-family=\"Times,serif\" font-size=\"14.00\" text-anchor=\"middle\" x=\"110.5\" y=\"-233.8\">flatten_1: Flatten</text>\n",
       "</g>\n",
       "<!-- 140251650768456&#45;&gt;140252697843136 -->\n",
       "<g class=\"edge\" id=\"edge5\">\n",
       "<title>140251650768456-&gt;140252697843136</title>\n",
       "<path d=\"M110.5,-292.31C110.5,-284.29 110.5,-274.55 110.5,-265.57\" fill=\"none\" stroke=\"black\"/>\n",
       "<polygon fill=\"black\" points=\"114,-265.53 110.5,-255.53 107,-265.53 114,-265.53\" stroke=\"black\"/>\n",
       "</g>\n",
       "<!-- 140252698252512 -->\n",
       "<g class=\"node\" id=\"node6\">\n",
       "<title>140252698252512</title>\n",
       "<polygon fill=\"none\" points=\"57,-146.5 57,-182.5 164,-182.5 164,-146.5 57,-146.5\" stroke=\"black\"/>\n",
       "<text font-family=\"Times,serif\" font-size=\"14.00\" text-anchor=\"middle\" x=\"110.5\" y=\"-160.8\">dense_1: Dense</text>\n",
       "</g>\n",
       "<!-- 140252697843136&#45;&gt;140252698252512 -->\n",
       "<g class=\"edge\" id=\"edge6\">\n",
       "<title>140252697843136-&gt;140252698252512</title>\n",
       "<path d=\"M110.5,-219.31C110.5,-211.29 110.5,-201.55 110.5,-192.57\" fill=\"none\" stroke=\"black\"/>\n",
       "<polygon fill=\"black\" points=\"114,-192.53 110.5,-182.53 107,-192.53 114,-192.53\" stroke=\"black\"/>\n",
       "</g>\n",
       "<!-- 140252702905512 -->\n",
       "<g class=\"node\" id=\"node7\">\n",
       "<title>140252702905512</title>\n",
       "<polygon fill=\"none\" points=\"57,-73.5 57,-109.5 164,-109.5 164,-73.5 57,-73.5\" stroke=\"black\"/>\n",
       "<text font-family=\"Times,serif\" font-size=\"14.00\" text-anchor=\"middle\" x=\"110.5\" y=\"-87.8\">dense_2: Dense</text>\n",
       "</g>\n",
       "<!-- 140252698252512&#45;&gt;140252702905512 -->\n",
       "<g class=\"edge\" id=\"edge7\">\n",
       "<title>140252698252512-&gt;140252702905512</title>\n",
       "<path d=\"M110.5,-146.31C110.5,-138.29 110.5,-128.55 110.5,-119.57\" fill=\"none\" stroke=\"black\"/>\n",
       "<polygon fill=\"black\" points=\"114,-119.53 110.5,-109.53 107,-119.53 114,-119.53\" stroke=\"black\"/>\n",
       "</g>\n",
       "<!-- 140251742543488 -->\n",
       "<g class=\"node\" id=\"node8\">\n",
       "<title>140251742543488</title>\n",
       "<polygon fill=\"none\" points=\"57,-0.5 57,-36.5 164,-36.5 164,-0.5 57,-0.5\" stroke=\"black\"/>\n",
       "<text font-family=\"Times,serif\" font-size=\"14.00\" text-anchor=\"middle\" x=\"110.5\" y=\"-14.8\">dense_3: Dense</text>\n",
       "</g>\n",
       "<!-- 140252702905512&#45;&gt;140251742543488 -->\n",
       "<g class=\"edge\" id=\"edge8\">\n",
       "<title>140252702905512-&gt;140251742543488</title>\n",
       "<path d=\"M110.5,-73.31C110.5,-65.29 110.5,-55.55 110.5,-46.57\" fill=\"none\" stroke=\"black\"/>\n",
       "<polygon fill=\"black\" points=\"114,-46.53 110.5,-36.53 107,-46.53 114,-46.53\" stroke=\"black\"/>\n",
       "</g>\n",
       "<!-- 140251650764984 -->\n",
       "<g class=\"node\" id=\"node9\">\n",
       "<title>140251650764984</title>\n",
       "<polygon fill=\"none\" points=\"46,-584.5 46,-620.5 175,-620.5 175,-584.5 46,-584.5\" stroke=\"black\"/>\n",
       "<text font-family=\"Times,serif\" font-size=\"14.00\" text-anchor=\"middle\" x=\"110.5\" y=\"-598.8\">140251650764984</text>\n",
       "</g>\n",
       "<!-- 140251650764984&#45;&gt;140251650768064 -->\n",
       "<g class=\"edge\" id=\"edge1\">\n",
       "<title>140251650764984-&gt;140251650768064</title>\n",
       "<path d=\"M110.5,-584.31C110.5,-576.29 110.5,-566.55 110.5,-557.57\" fill=\"none\" stroke=\"black\"/>\n",
       "<polygon fill=\"black\" points=\"114,-557.53 110.5,-547.53 107,-557.53 114,-557.53\" stroke=\"black\"/>\n",
       "</g>\n",
       "</g>\n",
       "</svg>"
      ],
      "text/plain": [
       "<IPython.core.display.SVG object>"
      ]
     },
     "execution_count": 18,
     "metadata": {},
     "output_type": "execute_result"
    }
   ],
   "source": [
    "SVG(model_to_dot(model).create(prog='dot', format='svg'))"
   ]
  },
  {
   "cell_type": "code",
   "execution_count": 27,
   "metadata": {},
   "outputs": [
    {
     "name": "stdout",
     "output_type": "stream",
     "text": [
      "Train on 40000 samples, validate on 10000 samples\n",
      "Epoch 1/100\n",
      "40000/40000 [==============================] - 7s 183us/sample - loss: 0.7863 - acc: 0.7229 - val_loss: 1.1639 - val_acc: 0.6088\n",
      "Epoch 2/100\n",
      "40000/40000 [==============================] - 7s 184us/sample - loss: 0.7673 - acc: 0.7283 - val_loss: 1.1658 - val_acc: 0.6067\n",
      "Epoch 3/100\n",
      "40000/40000 [==============================] - 7s 184us/sample - loss: 0.7505 - acc: 0.7367 - val_loss: 1.2130 - val_acc: 0.6019\n",
      "Epoch 4/100\n",
      "40000/40000 [==============================] - 7s 184us/sample - loss: 0.7162 - acc: 0.7483 - val_loss: 1.2071 - val_acc: 0.6085\n",
      "Epoch 5/100\n",
      "40000/40000 [==============================] - 7s 184us/sample - loss: 0.7017 - acc: 0.7545 - val_loss: 1.2524 - val_acc: 0.6015\n",
      "Epoch 6/100\n",
      "40000/40000 [==============================] - 7s 184us/sample - loss: 0.6798 - acc: 0.7624 - val_loss: 1.2853 - val_acc: 0.5939\n",
      "Epoch 00006: early stopping\n"
     ]
    }
   ],
   "source": [
    "early_stopping = EarlyStopping(patience=5, verbose=1)\n",
    "history = model.fit(x=x_train, y=y_train, batch_size=128, epochs=100, verbose=1,\n",
    "          validation_data=(x_valid, y_valid), callbacks=[early_stopping])"
   ]
  },
  {
   "cell_type": "code",
   "execution_count": 29,
   "metadata": {},
   "outputs": [
    {
     "data": {
      "image/png": "[encoded data removed]",
      "text/plain": [
       "<Figure size 432x288 with 1 Axes>"
      ]
     },
     "metadata": {},
     "output_type": "display_data"
    }
   ],
   "source": [
    "# ニューラルネットワークの分析\n",
    "# 損失関数の履歴を取得\n",
    "loss_train = history.history[\"loss\"]\n",
    "loss_val = history.history[\"val_loss\"]\n",
    "\n",
    "# 損失関数をプロット\n",
    "epochs=range(1,7)\n",
    "plt.figure(facecolor=\"white\")\n",
    "plt.plot(epochs,loss_train,label=\"Training loss\")\n",
    "plt.plot(epochs,loss_val,label=\"Validation loss\")\n",
    "plt.legend()\n",
    "plt.xlabel('Epochs')\n",
    "plt.ylabel('Loss')\n",
    "plt.show()"
   ]
  },
  {
   "cell_type": "code",
   "execution_count": 30,
   "metadata": {},
   "outputs": [
    {
     "data": {
      "image/png": "[encoded data removed]",
      "text/plain": [
       "<Figure size 432x288 with 1 Axes>"
      ]
     },
     "metadata": {},
     "output_type": "display_data"
    }
   ],
   "source": [
    "# 正解率を取得\n",
    "loss_train = history.history['acc']\n",
    "loss_val = history.history['val_acc']\n",
    "epochs = range(1,7)\n",
    "plt.figure(facecolor=\"white\")\n",
    "plt.plot(epochs, loss_train, 'g', label='Training accuracy')\n",
    "plt.plot(epochs, loss_val, 'b', label='Validation accuracy')\n",
    "plt.legend()\n",
    "plt.xlabel('Epochs')\n",
    "plt.ylabel('Accuracy')\n",
    "plt.show()"
   ]
  },
  {
   "cell_type": "code",
   "execution_count": null,
   "metadata": {},
   "outputs": [],
   "source": []
  }
 ],
 "metadata": {
  "kernelspec": {
   "display_name": "Python 3",
   "language": "python",
   "name": "python3"
  },
  "language_info": {
   "codemirror_mode": {
    "name": "ipython",
    "version": 3
   },
   "file_extension": ".py",
   "mimetype": "text/x-python",
   "name": "python",
   "nbconvert_exporter": "python",
   "pygments_lexer": "ipython3",
   "version": "3.7.3"
  }
 },
 "nbformat": 4,
 "nbformat_minor": 2
}
