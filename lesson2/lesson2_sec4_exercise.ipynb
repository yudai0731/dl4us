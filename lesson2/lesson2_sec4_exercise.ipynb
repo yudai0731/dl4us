{
 "cells": [
  {
   "cell_type": "markdown",
   "metadata": {},
   "source": [
    "# Lesson2 畳み込みニューラルネットワーク (CNN)"
   ]
  },
  {
   "cell_type": "markdown",
   "metadata": {},
   "source": [
    "## 目次\n",
    "\n",
    "- Section1 解説\n",
    "  - 1.1 CNN基礎\n",
    "  - 1.2 Convolution(畳み込み)層\n",
    "  - 1.3 Pooling(プーリング)層\n",
    "  - 1.4 確認問題\n",
    "- Section2 実装①\n",
    "  - 2.1 Fasion MNISTをCNNでクラス分類\n",
    "  - 2.2 CIFAR10のデータをCNNでクラス分類\n",
    "- Section3 テクニック・発展内容\n",
    "  - 3.1 Data Augmentation\n",
    "  - 3.2 画像データの正規化\n",
    "  - 3.3 Batch Normalization\n",
    "  - 3.4 Skip Connection  (Residual Network)\n",
    "  - 3.5 学習済みネットワークの利用\n",
    "  - 3.6 学習させたモデルの保存・再利用\n",
    "  - 3.7 確認問題\n",
    "- Section4 実装②\n",
    "  - 4.1 CIFAR10のデータをCNNでクラス分類②\n",
    "- Section5 ケーススタディ"
   ]
  },
  {
   "cell_type": "markdown",
   "metadata": {},
   "source": [
    "## 3.7 の解答\n",
    "\n",
    "問1: ② 問2: ① 問3: ① 問4: ①"
   ]
  },
  {
   "cell_type": "code",
   "execution_count": 1,
   "metadata": {},
   "outputs": [
    {
     "name": "stderr",
     "output_type": "stream",
     "text": [
      "/opt/conda/lib/python3.7/site-packages/tensorflow/python/framework/dtypes.py:526: FutureWarning: Passing (type, 1) or '1type' as a synonym of type is deprecated; in a future version of numpy, it will be understood as (type, (1,)) / '(1,)type'.\n",
      "  _np_qint8 = np.dtype([(\"qint8\", np.int8, 1)])\n",
      "/opt/conda/lib/python3.7/site-packages/tensorflow/python/framework/dtypes.py:527: FutureWarning: Passing (type, 1) or '1type' as a synonym of type is deprecated; in a future version of numpy, it will be understood as (type, (1,)) / '(1,)type'.\n",
      "  _np_quint8 = np.dtype([(\"quint8\", np.uint8, 1)])\n",
      "/opt/conda/lib/python3.7/site-packages/tensorflow/python/framework/dtypes.py:528: FutureWarning: Passing (type, 1) or '1type' as a synonym of type is deprecated; in a future version of numpy, it will be understood as (type, (1,)) / '(1,)type'.\n",
      "  _np_qint16 = np.dtype([(\"qint16\", np.int16, 1)])\n",
      "/opt/conda/lib/python3.7/site-packages/tensorflow/python/framework/dtypes.py:529: FutureWarning: Passing (type, 1) or '1type' as a synonym of type is deprecated; in a future version of numpy, it will be understood as (type, (1,)) / '(1,)type'.\n",
      "  _np_quint16 = np.dtype([(\"quint16\", np.uint16, 1)])\n",
      "/opt/conda/lib/python3.7/site-packages/tensorflow/python/framework/dtypes.py:530: FutureWarning: Passing (type, 1) or '1type' as a synonym of type is deprecated; in a future version of numpy, it will be understood as (type, (1,)) / '(1,)type'.\n",
      "  _np_qint32 = np.dtype([(\"qint32\", np.int32, 1)])\n",
      "/opt/conda/lib/python3.7/site-packages/tensorflow/python/framework/dtypes.py:535: FutureWarning: Passing (type, 1) or '1type' as a synonym of type is deprecated; in a future version of numpy, it will be understood as (type, (1,)) / '(1,)type'.\n",
      "  np_resource = np.dtype([(\"resource\", np.ubyte, 1)])\n"
     ]
    }
   ],
   "source": [
    "%matplotlib inline\n",
    "\n",
    "import os\n",
    "\n",
    "import tensorflow.keras as keras\n",
    "import numpy as np\n",
    "import matplotlib.pyplot as plt\n",
    "\n",
    "from tensorflow.keras.layers import Dense, Conv2D, MaxPooling2D, Flatten, Input, Activation, add, Add, Dropout, BatchNormalization\n",
    "from tensorflow.keras.callbacks import EarlyStopping\n",
    "from tensorflow.keras.models import Sequential, Model\n",
    "from tensorflow.keras.datasets import cifar10\n",
    "from tensorflow.keras.datasets import fashion_mnist\n",
    "from tensorflow.keras.utils import to_categorical\n",
    "from sklearn.model_selection import train_test_split\n",
    "\n",
    "from IPython.display import SVG\n",
    "from tensorflow.python.keras.utils.vis_utils import model_to_dot\n",
    "from tensorflow.keras.preprocessing.image import ImageDataGenerator\n",
    "\n",
    "random_state = 42"
   ]
  },
  {
   "cell_type": "markdown",
   "metadata": {},
   "source": [
    "## Section4 実装②"
   ]
  },
  {
   "cell_type": "markdown",
   "metadata": {},
   "source": [
    "### 4.1 CIFAR10のデータをCNNでクラス分類②\n",
    "CIFAR10データセットは次に示す5つのクラスのいずれかに分類される画像データのデータセットである. trainデータが60000件, testデータが10000件の合計60000件からなるデータセットで, 各クラスについて6000枚の画像がある.\n",
    "\n",
    "- airplane\n",
    "- automobile\n",
    "- bird\n",
    "- cat\n",
    "- deer\n",
    "- dog\n",
    "- frog\n",
    "- ship\n",
    "- truck"
   ]
  },
  {
   "cell_type": "code",
   "execution_count": 2,
   "metadata": {},
   "outputs": [],
   "source": [
    "(x_train, y_train), (x_test, y_test) = cifar10.load_data()\n",
    "\n",
    "x_train = x_train.astype('float32') / 255\n",
    "y_train = np.eye(10)[y_train.astype('int32').flatten()]\n",
    "\n",
    "x_test = x_test.astype('float32') / 255\n",
    "y_test = np.eye(10)[y_test.astype('int32').flatten()]\n",
    "\n",
    "x_train, x_valid, y_train, y_valid = train_test_split(\n",
    "    x_train, y_train, test_size=10000)"
   ]
  },
  {
   "cell_type": "markdown",
   "metadata": {},
   "source": [
    "Section3の学習内容も踏まえて、CIFAR10のクラス分類を行いたいと思います。\n",
    "\n",
    "まず、モデルの作成を行います。"
   ]
  },
  {
   "cell_type": "code",
   "execution_count": 3,
   "metadata": {},
   "outputs": [
    {
     "name": "stdout",
     "output_type": "stream",
     "text": [
      "WARNING:tensorflow:From /opt/conda/lib/python3.7/site-packages/tensorflow/python/ops/resource_variable_ops.py:435: colocate_with (from tensorflow.python.framework.ops) is deprecated and will be removed in a future version.\n",
      "Instructions for updating:\n",
      "Colocations handled automatically by placer.\n"
     ]
    }
   ],
   "source": [
    "model = Sequential()\n",
    "\n",
    "model.add(Conv2D(6, kernel_size=(5, 5), activation='relu',\n",
    "                 kernel_initializer='he_normal', input_shape=(32, 32, 3)))  # 32x32x3 -> 28x28x6\n",
    "model.add(MaxPooling2D(pool_size=(2, 2)))  # 28x28x6 -> 14x14x6\n",
    "model.add(Conv2D(16, kernel_size=(5, 5), activation='relu',\n",
    "                 kernel_initializer='he_normal'))  # 14x14x6 -> 10x10x16\n",
    "model.add(MaxPooling2D(pool_size=(2, 2)))  # 10x10x16 -> 5x5x16\n",
    "\n",
    "model.add(Flatten())  # 5x5x16 -> 400\n",
    "model.add(Dense(120, activation='relu',\n",
    "                kernel_initializer='he_normal'))  # 400 ->120\n",
    "model.add(Dense(84, activation='relu', kernel_initializer='he_normal'))  # 120 ->84\n",
    "model.add(Dense(10, activation='softmax'))  # 84 ->10\n",
    "\n",
    "model.compile(\n",
    "    loss=keras.losses.categorical_crossentropy,\n",
    "    optimizer='adam',\n",
    "    metrics=['accuracy']\n",
    ")"
   ]
  },
  {
   "cell_type": "code",
   "execution_count": 5,
   "metadata": {},
   "outputs": [
    {
     "data": {
      "image/svg+xml": [
       "<svg height=\"709pt\" viewBox=\"0.00 0.00 412.00 709.00\" width=\"412pt\" xmlns=\"http://www.w3.org/2000/svg\" xmlns:xlink=\"http://www.w3.org/1999/xlink\">\n",
       "<g class=\"graph\" id=\"graph0\" transform=\"scale(1 1) rotate(0) translate(4 705)\">\n",
       "<title>G</title>\n",
       "<polygon fill=\"white\" points=\"-4,4 -4,-705 408,-705 408,4 -4,4\" stroke=\"transparent\"/>\n",
       "<!-- 139932204845600 -->\n",
       "<g class=\"node\" id=\"node1\">\n",
       "<title>139932204845600</title>\n",
       "<polygon fill=\"none\" points=\"55.5,-581.5 55.5,-627.5 348.5,-627.5 348.5,-581.5 55.5,-581.5\" stroke=\"black\"/>\n",
       "<text font-family=\"Times,serif\" font-size=\"14.00\" text-anchor=\"middle\" x=\"114.5\" y=\"-600.8\">conv2d: Conv2D</text>\n",
       "<polyline fill=\"none\" points=\"173.5,-581.5 173.5,-627.5 \" stroke=\"black\"/>\n",
       "<text font-family=\"Times,serif\" font-size=\"14.00\" text-anchor=\"middle\" x=\"202.5\" y=\"-612.3\">input:</text>\n",
       "<polyline fill=\"none\" points=\"173.5,-604.5 231.5,-604.5 \" stroke=\"black\"/>\n",
       "<text font-family=\"Times,serif\" font-size=\"14.00\" text-anchor=\"middle\" x=\"202.5\" y=\"-589.3\">output:</text>\n",
       "<polyline fill=\"none\" points=\"231.5,-581.5 231.5,-627.5 \" stroke=\"black\"/>\n",
       "<text font-family=\"Times,serif\" font-size=\"14.00\" text-anchor=\"middle\" x=\"290\" y=\"-612.3\">(None, 32, 32, 3)</text>\n",
       "<polyline fill=\"none\" points=\"231.5,-604.5 348.5,-604.5 \" stroke=\"black\"/>\n",
       "<text font-family=\"Times,serif\" font-size=\"14.00\" text-anchor=\"middle\" x=\"290\" y=\"-589.3\">(None, 28, 28, 6)</text>\n",
       "</g>\n",
       "<!-- 139932204846720 -->\n",
       "<g class=\"node\" id=\"node2\">\n",
       "<title>139932204846720</title>\n",
       "<polygon fill=\"none\" points=\"11.5,-498.5 11.5,-544.5 392.5,-544.5 392.5,-498.5 11.5,-498.5\" stroke=\"black\"/>\n",
       "<text font-family=\"Times,serif\" font-size=\"14.00\" text-anchor=\"middle\" x=\"114.5\" y=\"-517.8\">max_pooling2d: MaxPooling2D</text>\n",
       "<polyline fill=\"none\" points=\"217.5,-498.5 217.5,-544.5 \" stroke=\"black\"/>\n",
       "<text font-family=\"Times,serif\" font-size=\"14.00\" text-anchor=\"middle\" x=\"246.5\" y=\"-529.3\">input:</text>\n",
       "<polyline fill=\"none\" points=\"217.5,-521.5 275.5,-521.5 \" stroke=\"black\"/>\n",
       "<text font-family=\"Times,serif\" font-size=\"14.00\" text-anchor=\"middle\" x=\"246.5\" y=\"-506.3\">output:</text>\n",
       "<polyline fill=\"none\" points=\"275.5,-498.5 275.5,-544.5 \" stroke=\"black\"/>\n",
       "<text font-family=\"Times,serif\" font-size=\"14.00\" text-anchor=\"middle\" x=\"334\" y=\"-529.3\">(None, 28, 28, 6)</text>\n",
       "<polyline fill=\"none\" points=\"275.5,-521.5 392.5,-521.5 \" stroke=\"black\"/>\n",
       "<text font-family=\"Times,serif\" font-size=\"14.00\" text-anchor=\"middle\" x=\"334\" y=\"-506.3\">(None, 14, 14, 6)</text>\n",
       "</g>\n",
       "<!-- 139932204845600&#45;&gt;139932204846720 -->\n",
       "<g class=\"edge\" id=\"edge2\">\n",
       "<title>139932204845600-&gt;139932204846720</title>\n",
       "<path d=\"M202,-581.37C202,-573.15 202,-563.66 202,-554.73\" fill=\"none\" stroke=\"black\"/>\n",
       "<polygon fill=\"black\" points=\"205.5,-554.61 202,-544.61 198.5,-554.61 205.5,-554.61\" stroke=\"black\"/>\n",
       "</g>\n",
       "<!-- 139932204920960 -->\n",
       "<g class=\"node\" id=\"node3\">\n",
       "<title>139932204920960</title>\n",
       "<polygon fill=\"none\" points=\"44,-415.5 44,-461.5 360,-461.5 360,-415.5 44,-415.5\" stroke=\"black\"/>\n",
       "<text font-family=\"Times,serif\" font-size=\"14.00\" text-anchor=\"middle\" x=\"110.5\" y=\"-434.8\">conv2d_1: Conv2D</text>\n",
       "<polyline fill=\"none\" points=\"177,-415.5 177,-461.5 \" stroke=\"black\"/>\n",
       "<text font-family=\"Times,serif\" font-size=\"14.00\" text-anchor=\"middle\" x=\"206\" y=\"-446.3\">input:</text>\n",
       "<polyline fill=\"none\" points=\"177,-438.5 235,-438.5 \" stroke=\"black\"/>\n",
       "<text font-family=\"Times,serif\" font-size=\"14.00\" text-anchor=\"middle\" x=\"206\" y=\"-423.3\">output:</text>\n",
       "<polyline fill=\"none\" points=\"235,-415.5 235,-461.5 \" stroke=\"black\"/>\n",
       "<text font-family=\"Times,serif\" font-size=\"14.00\" text-anchor=\"middle\" x=\"297.5\" y=\"-446.3\">(None, 14, 14, 6)</text>\n",
       "<polyline fill=\"none\" points=\"235,-438.5 360,-438.5 \" stroke=\"black\"/>\n",
       "<text font-family=\"Times,serif\" font-size=\"14.00\" text-anchor=\"middle\" x=\"297.5\" y=\"-423.3\">(None, 10, 10, 16)</text>\n",
       "</g>\n",
       "<!-- 139932204846720&#45;&gt;139932204920960 -->\n",
       "<g class=\"edge\" id=\"edge3\">\n",
       "<title>139932204846720-&gt;139932204920960</title>\n",
       "<path d=\"M202,-498.37C202,-490.15 202,-480.66 202,-471.73\" fill=\"none\" stroke=\"black\"/>\n",
       "<polygon fill=\"black\" points=\"205.5,-471.61 202,-461.61 198.5,-471.61 205.5,-471.61\" stroke=\"black\"/>\n",
       "</g>\n",
       "<!-- 139932204922416 -->\n",
       "<g class=\"node\" id=\"node4\">\n",
       "<title>139932204922416</title>\n",
       "<polygon fill=\"none\" points=\"0,-332.5 0,-378.5 404,-378.5 404,-332.5 0,-332.5\" stroke=\"black\"/>\n",
       "<text font-family=\"Times,serif\" font-size=\"14.00\" text-anchor=\"middle\" x=\"110.5\" y=\"-351.8\">max_pooling2d_1: MaxPooling2D</text>\n",
       "<polyline fill=\"none\" points=\"221,-332.5 221,-378.5 \" stroke=\"black\"/>\n",
       "<text font-family=\"Times,serif\" font-size=\"14.00\" text-anchor=\"middle\" x=\"250\" y=\"-363.3\">input:</text>\n",
       "<polyline fill=\"none\" points=\"221,-355.5 279,-355.5 \" stroke=\"black\"/>\n",
       "<text font-family=\"Times,serif\" font-size=\"14.00\" text-anchor=\"middle\" x=\"250\" y=\"-340.3\">output:</text>\n",
       "<polyline fill=\"none\" points=\"279,-332.5 279,-378.5 \" stroke=\"black\"/>\n",
       "<text font-family=\"Times,serif\" font-size=\"14.00\" text-anchor=\"middle\" x=\"341.5\" y=\"-363.3\">(None, 10, 10, 16)</text>\n",
       "<polyline fill=\"none\" points=\"279,-355.5 404,-355.5 \" stroke=\"black\"/>\n",
       "<text font-family=\"Times,serif\" font-size=\"14.00\" text-anchor=\"middle\" x=\"341.5\" y=\"-340.3\">(None, 5, 5, 16)</text>\n",
       "</g>\n",
       "<!-- 139932204920960&#45;&gt;139932204922416 -->\n",
       "<g class=\"edge\" id=\"edge4\">\n",
       "<title>139932204920960-&gt;139932204922416</title>\n",
       "<path d=\"M202,-415.37C202,-407.15 202,-397.66 202,-388.73\" fill=\"none\" stroke=\"black\"/>\n",
       "<polygon fill=\"black\" points=\"205.5,-388.61 202,-378.61 198.5,-388.61 205.5,-388.61\" stroke=\"black\"/>\n",
       "</g>\n",
       "<!-- 139932073205432 -->\n",
       "<g class=\"node\" id=\"node5\">\n",
       "<title>139932073205432</title>\n",
       "<polygon fill=\"none\" points=\"69,-249.5 69,-295.5 335,-295.5 335,-249.5 69,-249.5\" stroke=\"black\"/>\n",
       "<text font-family=\"Times,serif\" font-size=\"14.00\" text-anchor=\"middle\" x=\"118\" y=\"-268.8\">flatten: Flatten</text>\n",
       "<polyline fill=\"none\" points=\"167,-249.5 167,-295.5 \" stroke=\"black\"/>\n",
       "<text font-family=\"Times,serif\" font-size=\"14.00\" text-anchor=\"middle\" x=\"196\" y=\"-280.3\">input:</text>\n",
       "<polyline fill=\"none\" points=\"167,-272.5 225,-272.5 \" stroke=\"black\"/>\n",
       "<text font-family=\"Times,serif\" font-size=\"14.00\" text-anchor=\"middle\" x=\"196\" y=\"-257.3\">output:</text>\n",
       "<polyline fill=\"none\" points=\"225,-249.5 225,-295.5 \" stroke=\"black\"/>\n",
       "<text font-family=\"Times,serif\" font-size=\"14.00\" text-anchor=\"middle\" x=\"280\" y=\"-280.3\">(None, 5, 5, 16)</text>\n",
       "<polyline fill=\"none\" points=\"225,-272.5 335,-272.5 \" stroke=\"black\"/>\n",
       "<text font-family=\"Times,serif\" font-size=\"14.00\" text-anchor=\"middle\" x=\"280\" y=\"-257.3\">(None, 400)</text>\n",
       "</g>\n",
       "<!-- 139932204922416&#45;&gt;139932073205432 -->\n",
       "<g class=\"edge\" id=\"edge5\">\n",
       "<title>139932204922416-&gt;139932073205432</title>\n",
       "<path d=\"M202,-332.37C202,-324.15 202,-314.66 202,-305.73\" fill=\"none\" stroke=\"black\"/>\n",
       "<polygon fill=\"black\" points=\"205.5,-305.61 202,-295.61 198.5,-305.61 205.5,-305.61\" stroke=\"black\"/>\n",
       "</g>\n",
       "<!-- 139932072881512 -->\n",
       "<g class=\"node\" id=\"node6\">\n",
       "<title>139932072881512</title>\n",
       "<polygon fill=\"none\" points=\"83.5,-166.5 83.5,-212.5 320.5,-212.5 320.5,-166.5 83.5,-166.5\" stroke=\"black\"/>\n",
       "<text font-family=\"Times,serif\" font-size=\"14.00\" text-anchor=\"middle\" x=\"129.5\" y=\"-185.8\">dense: Dense</text>\n",
       "<polyline fill=\"none\" points=\"175.5,-166.5 175.5,-212.5 \" stroke=\"black\"/>\n",
       "<text font-family=\"Times,serif\" font-size=\"14.00\" text-anchor=\"middle\" x=\"204.5\" y=\"-197.3\">input:</text>\n",
       "<polyline fill=\"none\" points=\"175.5,-189.5 233.5,-189.5 \" stroke=\"black\"/>\n",
       "<text font-family=\"Times,serif\" font-size=\"14.00\" text-anchor=\"middle\" x=\"204.5\" y=\"-174.3\">output:</text>\n",
       "<polyline fill=\"none\" points=\"233.5,-166.5 233.5,-212.5 \" stroke=\"black\"/>\n",
       "<text font-family=\"Times,serif\" font-size=\"14.00\" text-anchor=\"middle\" x=\"277\" y=\"-197.3\">(None, 400)</text>\n",
       "<polyline fill=\"none\" points=\"233.5,-189.5 320.5,-189.5 \" stroke=\"black\"/>\n",
       "<text font-family=\"Times,serif\" font-size=\"14.00\" text-anchor=\"middle\" x=\"277\" y=\"-174.3\">(None, 120)</text>\n",
       "</g>\n",
       "<!-- 139932073205432&#45;&gt;139932072881512 -->\n",
       "<g class=\"edge\" id=\"edge6\">\n",
       "<title>139932073205432-&gt;139932072881512</title>\n",
       "<path d=\"M202,-249.37C202,-241.15 202,-231.66 202,-222.73\" fill=\"none\" stroke=\"black\"/>\n",
       "<polygon fill=\"black\" points=\"205.5,-222.61 202,-212.61 198.5,-222.61 205.5,-222.61\" stroke=\"black\"/>\n",
       "</g>\n",
       "<!-- 139932072879552 -->\n",
       "<g class=\"node\" id=\"node7\">\n",
       "<title>139932072879552</title>\n",
       "<polygon fill=\"none\" points=\"76,-83.5 76,-129.5 328,-129.5 328,-83.5 76,-83.5\" stroke=\"black\"/>\n",
       "<text font-family=\"Times,serif\" font-size=\"14.00\" text-anchor=\"middle\" x=\"129.5\" y=\"-102.8\">dense_1: Dense</text>\n",
       "<polyline fill=\"none\" points=\"183,-83.5 183,-129.5 \" stroke=\"black\"/>\n",
       "<text font-family=\"Times,serif\" font-size=\"14.00\" text-anchor=\"middle\" x=\"212\" y=\"-114.3\">input:</text>\n",
       "<polyline fill=\"none\" points=\"183,-106.5 241,-106.5 \" stroke=\"black\"/>\n",
       "<text font-family=\"Times,serif\" font-size=\"14.00\" text-anchor=\"middle\" x=\"212\" y=\"-91.3\">output:</text>\n",
       "<polyline fill=\"none\" points=\"241,-83.5 241,-129.5 \" stroke=\"black\"/>\n",
       "<text font-family=\"Times,serif\" font-size=\"14.00\" text-anchor=\"middle\" x=\"284.5\" y=\"-114.3\">(None, 120)</text>\n",
       "<polyline fill=\"none\" points=\"241,-106.5 328,-106.5 \" stroke=\"black\"/>\n",
       "<text font-family=\"Times,serif\" font-size=\"14.00\" text-anchor=\"middle\" x=\"284.5\" y=\"-91.3\">(None, 84)</text>\n",
       "</g>\n",
       "<!-- 139932072881512&#45;&gt;139932072879552 -->\n",
       "<g class=\"edge\" id=\"edge7\">\n",
       "<title>139932072881512-&gt;139932072879552</title>\n",
       "<path d=\"M202,-166.37C202,-158.15 202,-148.66 202,-139.73\" fill=\"none\" stroke=\"black\"/>\n",
       "<polygon fill=\"black\" points=\"205.5,-139.61 202,-129.61 198.5,-139.61 205.5,-139.61\" stroke=\"black\"/>\n",
       "</g>\n",
       "<!-- 139932072879720 -->\n",
       "<g class=\"node\" id=\"node8\">\n",
       "<title>139932072879720</title>\n",
       "<polygon fill=\"none\" points=\"79.5,-0.5 79.5,-46.5 324.5,-46.5 324.5,-0.5 79.5,-0.5\" stroke=\"black\"/>\n",
       "<text font-family=\"Times,serif\" font-size=\"14.00\" text-anchor=\"middle\" x=\"133\" y=\"-19.8\">dense_2: Dense</text>\n",
       "<polyline fill=\"none\" points=\"186.5,-0.5 186.5,-46.5 \" stroke=\"black\"/>\n",
       "<text font-family=\"Times,serif\" font-size=\"14.00\" text-anchor=\"middle\" x=\"215.5\" y=\"-31.3\">input:</text>\n",
       "<polyline fill=\"none\" points=\"186.5,-23.5 244.5,-23.5 \" stroke=\"black\"/>\n",
       "<text font-family=\"Times,serif\" font-size=\"14.00\" text-anchor=\"middle\" x=\"215.5\" y=\"-8.3\">output:</text>\n",
       "<polyline fill=\"none\" points=\"244.5,-0.5 244.5,-46.5 \" stroke=\"black\"/>\n",
       "<text font-family=\"Times,serif\" font-size=\"14.00\" text-anchor=\"middle\" x=\"284.5\" y=\"-31.3\">(None, 84)</text>\n",
       "<polyline fill=\"none\" points=\"244.5,-23.5 324.5,-23.5 \" stroke=\"black\"/>\n",
       "<text font-family=\"Times,serif\" font-size=\"14.00\" text-anchor=\"middle\" x=\"284.5\" y=\"-8.3\">(None, 10)</text>\n",
       "</g>\n",
       "<!-- 139932072879552&#45;&gt;139932072879720 -->\n",
       "<g class=\"edge\" id=\"edge8\">\n",
       "<title>139932072879552-&gt;139932072879720</title>\n",
       "<path d=\"M202,-83.37C202,-75.15 202,-65.66 202,-56.73\" fill=\"none\" stroke=\"black\"/>\n",
       "<polygon fill=\"black\" points=\"205.5,-56.61 202,-46.61 198.5,-56.61 205.5,-56.61\" stroke=\"black\"/>\n",
       "</g>\n",
       "<!-- 139933412535488 -->\n",
       "<g class=\"node\" id=\"node9\">\n",
       "<title>139933412535488</title>\n",
       "<polygon fill=\"none\" points=\"137.5,-664.5 137.5,-700.5 266.5,-700.5 266.5,-664.5 137.5,-664.5\" stroke=\"black\"/>\n",
       "<text font-family=\"Times,serif\" font-size=\"14.00\" text-anchor=\"middle\" x=\"202\" y=\"-678.8\">139933412535488</text>\n",
       "</g>\n",
       "<!-- 139933412535488&#45;&gt;139932204845600 -->\n",
       "<g class=\"edge\" id=\"edge1\">\n",
       "<title>139933412535488-&gt;139932204845600</title>\n",
       "<path d=\"M202,-664.25C202,-656.36 202,-646.75 202,-637.6\" fill=\"none\" stroke=\"black\"/>\n",
       "<polygon fill=\"black\" points=\"205.5,-637.59 202,-627.59 198.5,-637.59 205.5,-637.59\" stroke=\"black\"/>\n",
       "</g>\n",
       "</g>\n",
       "</svg>"
      ],
      "text/plain": [
       "<IPython.core.display.SVG object>"
      ]
     },
     "execution_count": 5,
     "metadata": {},
     "output_type": "execute_result"
    }
   ],
   "source": [
    "# モデルmodelを可視化\n",
    "from IPython.display import SVG\n",
    "from tensorflow.python.keras.utils.vis_utils import model_to_dot\n",
    "\n",
    "SVG(model_to_dot(model, show_shapes=True).create(prog='dot', format='svg'))"
   ]
  },
  {
   "cell_type": "markdown",
   "metadata": {},
   "source": [
    "次に、Section3で学習したDataAugumentationや画像データの正規化を学習に反映させてみます。\n",
    "\n",
    "kerasのImageDataGeneratorを使用します。"
   ]
  },
  {
   "cell_type": "code",
   "execution_count": 6,
   "metadata": {},
   "outputs": [],
   "source": [
    "datagen = ImageDataGenerator(\n",
    "    width_shift_range=0.2,  # 3.1.1 左右にずらす\n",
    "    height_shift_range=0.2,  # 3.1.2 上下にずらす\n",
    "    horizontal_flip=True,  # 3.1.3 左右反転\n",
    "    # 3.2.1 Global Contrast Normalization (GCN) (Falseに設定しているのでここでは使用していない)\n",
    "    samplewise_center=False,\n",
    "    samplewise_std_normalization=False,\n",
    "    zca_whitening=False)  # 3.2.2 Zero-phase Component Analysis (ZCA) Whitening (Falseに設定しているのでここでは使用していない)"
   ]
  },
  {
   "cell_type": "code",
   "execution_count": 8,
   "metadata": {},
   "outputs": [
    {
     "name": "stdout",
     "output_type": "stream",
     "text": [
      "Epoch 1/30\n",
      "10000/10000 [==============================] - 1s 79us/sample - loss: 1.1244 - acc: 0.6069\n",
      "400/400 [==============================] - 14s 35ms/step - loss: 1.1929 - acc: 0.5755 - val_loss: 1.1244 - val_acc: 0.6069\n",
      "Epoch 2/30\n",
      "10000/10000 [==============================] - 1s 80us/sample - loss: 1.1037 - acc: 0.6094\n",
      "400/400 [==============================] - 14s 35ms/step - loss: 1.1898 - acc: 0.5766 - val_loss: 1.1037 - val_acc: 0.6094\n",
      "Epoch 3/30\n",
      "10000/10000 [==============================] - 1s 78us/sample - loss: 1.0982 - acc: 0.6078\n",
      "400/400 [==============================] - 14s 35ms/step - loss: 1.1814 - acc: 0.5792 - val_loss: 1.0982 - val_acc: 0.6078\n",
      "Epoch 4/30\n",
      "10000/10000 [==============================] - 1s 81us/sample - loss: 1.2007 - acc: 0.5758\n",
      "400/400 [==============================] - 14s 34ms/step - loss: 1.1789 - acc: 0.5803 - val_loss: 1.2007 - val_acc: 0.5758\n",
      "Epoch 5/30\n",
      "10000/10000 [==============================] - 1s 80us/sample - loss: 1.2426 - acc: 0.5675\n",
      "400/400 [==============================] - 14s 34ms/step - loss: 1.1796 - acc: 0.5815 - val_loss: 1.2426 - val_acc: 0.5675\n",
      "Epoch 6/30\n",
      "10000/10000 [==============================] - 1s 79us/sample - loss: 1.1115 - acc: 0.6054 loss: 1.1687 -  - ETA: 0s\n",
      "400/400 [==============================] - 14s 34ms/step - loss: 1.1700 - acc: 0.5828 - val_loss: 1.1115 - val_acc: 0.6054\n",
      "Epoch 7/30\n",
      "10000/10000 [==============================] - 1s 80us/sample - loss: 1.1084 - acc: 0.6099\n",
      "400/400 [==============================] - 14s 34ms/step - loss: 1.1682 - acc: 0.5850 - val_loss: 1.1084 - val_acc: 0.6099\n",
      "Epoch 8/30\n",
      "10000/10000 [==============================] - 1s 81us/sample - loss: 1.1552 - acc: 0.5933\n",
      "400/400 [==============================] - 14s 34ms/step - loss: 1.1723 - acc: 0.5853 - val_loss: 1.1552 - val_acc: 0.5933\n",
      "Epoch 9/30\n",
      "10000/10000 [==============================] - 1s 79us/sample - loss: 1.0954 - acc: 0.6117\n",
      "400/400 [==============================] - 14s 34ms/step - loss: 1.1596 - acc: 0.5855 - val_loss: 1.0954 - val_acc: 0.6117\n",
      "Epoch 10/30\n",
      "10000/10000 [==============================] - 1s 82us/sample - loss: 1.0899 - acc: 0.6124\n",
      "400/400 [==============================] - 14s 34ms/step - loss: 1.1511 - acc: 0.5918 - val_loss: 1.0899 - val_acc: 0.6124\n",
      "Epoch 11/30\n",
      "10000/10000 [==============================] - 1s 83us/sample - loss: 1.1676 - acc: 0.5968\n",
      "400/400 [==============================] - 14s 34ms/step - loss: 1.1569 - acc: 0.5867 - val_loss: 1.1676 - val_acc: 0.5968\n",
      "Epoch 12/30\n",
      "10000/10000 [==============================] - 1s 79us/sample - loss: 1.0785 - acc: 0.6169\n",
      "400/400 [==============================] - 14s 35ms/step - loss: 1.1438 - acc: 0.5933 - val_loss: 1.0785 - val_acc: 0.6169\n",
      "Epoch 13/30\n",
      "10000/10000 [==============================] - 1s 79us/sample - loss: 1.0599 - acc: 0.6202\n",
      "400/400 [==============================] - 14s 34ms/step - loss: 1.1353 - acc: 0.5950 - val_loss: 1.0599 - val_acc: 0.6202\n",
      "Epoch 14/30\n",
      "10000/10000 [==============================] - 1s 79us/sample - loss: 1.1103 - acc: 0.6194\n",
      "400/400 [==============================] - 14s 34ms/step - loss: 1.1480 - acc: 0.5906 - val_loss: 1.1103 - val_acc: 0.6194\n",
      "Epoch 15/30\n",
      "10000/10000 [==============================] - 1s 81us/sample - loss: 1.0638 - acc: 0.6199\n",
      "400/400 [==============================] - 14s 35ms/step - loss: 1.1454 - acc: 0.5925 - val_loss: 1.0638 - val_acc: 0.6199\n",
      "Epoch 16/30\n",
      "10000/10000 [==============================] - 1s 79us/sample - loss: 1.1016 - acc: 0.6125\n",
      "400/400 [==============================] - 14s 35ms/step - loss: 1.1304 - acc: 0.6002 - val_loss: 1.1016 - val_acc: 0.6125\n",
      "Epoch 17/30\n",
      "10000/10000 [==============================] - 1s 79us/sample - loss: 1.0578 - acc: 0.6274\n",
      "400/400 [==============================] - 14s 34ms/step - loss: 1.1307 - acc: 0.5975 - val_loss: 1.0578 - val_acc: 0.6274\n",
      "Epoch 18/30\n",
      "10000/10000 [==============================] - 1s 80us/sample - loss: 1.0977 - acc: 0.6179\n",
      "400/400 [==============================] - 14s 34ms/step - loss: 1.1289 - acc: 0.5989 - val_loss: 1.0977 - val_acc: 0.6179\n",
      "Epoch 19/30\n",
      "10000/10000 [==============================] - 1s 79us/sample - loss: 1.0880 - acc: 0.6199\n",
      "400/400 [==============================] - 13s 34ms/step - loss: 1.1221 - acc: 0.6004 - val_loss: 1.0880 - val_acc: 0.6199\n",
      "Epoch 20/30\n",
      "10000/10000 [==============================] - 1s 79us/sample - loss: 1.0471 - acc: 0.6310\n",
      "400/400 [==============================] - 13s 34ms/step - loss: 1.1229 - acc: 0.6018 - val_loss: 1.0471 - val_acc: 0.6310\n",
      "Epoch 21/30\n",
      "10000/10000 [==============================] - 1s 81us/sample - loss: 1.1113 - acc: 0.6111\n",
      "400/400 [==============================] - 14s 35ms/step - loss: 1.1222 - acc: 0.6025 - val_loss: 1.1113 - val_acc: 0.6111\n",
      "Epoch 22/30\n",
      "10000/10000 [==============================] - 1s 78us/sample - loss: 1.0552 - acc: 0.6236\n",
      "400/400 [==============================] - 14s 35ms/step - loss: 1.1175 - acc: 0.6014 - val_loss: 1.0552 - val_acc: 0.6236\n",
      "Epoch 23/30\n",
      "10000/10000 [==============================] - 1s 79us/sample - loss: 1.0771 - acc: 0.6262\n",
      "400/400 [==============================] - 13s 34ms/step - loss: 1.1043 - acc: 0.6055 - val_loss: 1.0771 - val_acc: 0.6262\n",
      "Epoch 24/30\n",
      "10000/10000 [==============================] - 1s 79us/sample - loss: 1.0543 - acc: 0.6290\n",
      "400/400 [==============================] - 13s 34ms/step - loss: 1.1097 - acc: 0.6058 - val_loss: 1.0543 - val_acc: 0.6290\n",
      "Epoch 25/30\n",
      "10000/10000 [==============================] - 1s 79us/sample - loss: 1.0396 - acc: 0.6318\n",
      "400/400 [==============================] - 13s 34ms/step - loss: 1.1182 - acc: 0.6025 - val_loss: 1.0396 - val_acc: 0.6318\n",
      "Epoch 26/30\n",
      "10000/10000 [==============================] - 1s 79us/sample - loss: 1.1258 - acc: 0.6119\n",
      "400/400 [==============================] - 13s 34ms/step - loss: 1.1121 - acc: 0.6025 - val_loss: 1.1258 - val_acc: 0.6119\n",
      "Epoch 27/30\n",
      "10000/10000 [==============================] - 1s 79us/sample - loss: 1.0665 - acc: 0.6282\n",
      "400/400 [==============================] - 13s 34ms/step - loss: 1.1039 - acc: 0.6085 - val_loss: 1.0665 - val_acc: 0.6282\n",
      "Epoch 28/30\n",
      "10000/10000 [==============================] - 1s 80us/sample - loss: 1.0258 - acc: 0.6322\n",
      "400/400 [==============================] - 13s 34ms/step - loss: 1.1058 - acc: 0.6059 - val_loss: 1.0258 - val_acc: 0.6322\n",
      "Epoch 29/30\n",
      "10000/10000 [==============================] - 1s 79us/sample - loss: 0.9938 - acc: 0.6481\n",
      "400/400 [==============================] - 14s 34ms/step - loss: 1.0973 - acc: 0.6107 - val_loss: 0.9938 - val_acc: 0.6481\n",
      "Epoch 30/30\n",
      "10000/10000 [==============================] - 1s 79us/sample - loss: 1.0422 - acc: 0.6321\n",
      "400/400 [==============================] - 14s 34ms/step - loss: 1.0917 - acc: 0.6129 - val_loss: 1.0422 - val_acc: 0.6321\n"
     ]
    }
   ],
   "source": [
    "history = model.fit_generator(datagen.flow(x_train, y_train, batch_size=100),\n",
    "                    steps_per_epoch=x_train.shape[0] // 100, epochs=30, validation_data=(x_valid, y_valid))"
   ]
  },
  {
   "cell_type": "code",
   "execution_count": 9,
   "metadata": {},
   "outputs": [
    {
     "name": "stdout",
     "output_type": "stream",
     "text": [
      "40000/40000 [==============================] - 3s 72us/sample - loss: 0.9620 - acc: 0.6600\n"
     ]
    }
   ],
   "source": [
    "# モデルの評価\n",
    "scores = model.evaluate(x_train, y_train, batch_size=100)"
   ]
  },
  {
   "cell_type": "code",
   "execution_count": 11,
   "metadata": {},
   "outputs": [
    {
     "data": {
      "image/png": "[encoded data removed]",
      "text/plain": [
       "<Figure size 432x288 with 1 Axes>"
      ]
     },
     "metadata": {},
     "output_type": "display_data"
    }
   ],
   "source": [
    "# 損失関数の履歴を取得\n",
    "loss_train = history.history[\"loss\"]\n",
    "loss_val = history.history[\"val_loss\"]\n",
    "\n",
    "# 損失関数をプロット\n",
    "epochs=range(1,31)\n",
    "plt.figure(facecolor=\"white\")\n",
    "plt.plot(epochs,loss_train,label=\"Training loss\")\n",
    "plt.plot(epochs,loss_val,label=\"Validation loss\")\n",
    "plt.legend()\n",
    "plt.xlabel('Epochs')\n",
    "plt.ylabel('Loss')\n",
    "plt.show()"
   ]
  },
  {
   "cell_type": "code",
   "execution_count": 12,
   "metadata": {},
   "outputs": [
    {
     "data": {
      "image/png": "[encoded data removed]",
      "text/plain": [
       "<Figure size 432x288 with 1 Axes>"
      ]
     },
     "metadata": {},
     "output_type": "display_data"
    }
   ],
   "source": [
    "loss_train = history.history['acc']\n",
    "loss_val = history.history['val_acc']\n",
    "epochs = range(1,31)\n",
    "plt.figure(facecolor=\"white\")\n",
    "plt.plot(epochs, loss_train, 'g', label='Training accuracy')\n",
    "plt.plot(epochs, loss_val, 'b', label='Validation accuracy')\n",
    "plt.legend()\n",
    "plt.xlabel('Epochs')\n",
    "plt.ylabel('Accuracy')\n",
    "plt.show()"
   ]
  },
  {
   "cell_type": "code",
   "execution_count": null,
   "metadata": {},
   "outputs": [],
   "source": []
  }
 ],
 "metadata": {
  "kernelspec": {
   "display_name": "Python 3",
   "language": "python",
   "name": "python3"
  },
  "language_info": {
   "codemirror_mode": {
    "name": "ipython",
    "version": 3
   },
   "file_extension": ".py",
   "mimetype": "text/x-python",
   "name": "python",
   "nbconvert_exporter": "python",
   "pygments_lexer": "ipython3",
   "version": "3.7.3"
  }
 },
 "nbformat": 4,
 "nbformat_minor": 2
}
